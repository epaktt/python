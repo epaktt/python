{
  "cells": [
    {
      "metadata": {
        "trusted": true
      },
      "cell_type": "code",
      "source": "import sqlite3",
      "execution_count": 1,
      "outputs": []
    },
    {
      "metadata": {
        "trusted": true
      },
      "cell_type": "code",
      "source": "",
      "execution_count": null,
      "outputs": []
    },
    {
      "metadata": {},
      "cell_type": "markdown",
      "source": "[sqlite3](https://docs.python.org/3.7/library/sqlite3.html)  \n\nScenario It useful to prototype an application using SQLite and then port the code to a larger database such as PostgreSQL or Oracle.\n\n[sqlite sample database](http://www.sqlitetutorial.net/sqlite-sample-database/)"
    },
    {
      "metadata": {
        "trusted": true
      },
      "cell_type": "code",
      "source": "# exmaple database, chinbook.db in sqlite_sample/chinbook.db\n# Normal procedure with sqlite db:\n\n# 1. Open connection.\ndb_file = 'sqlite_sample/chinook.db'\nconnection = sqlite3.connect(db_file)\n\n# 2. Get a cursor.\ncursor = connection.cursor()\n\n# 3. Execute SQL.\nfor row in cursor.execute('select * from employees limit 10'):\n    print(row)\n    \n# 4. Save (commit) the changes, for creation/updates.\n# connection.commit()\n\n\n# 5. We can also close the connection if we are done with it.\n# Just be sure any changes have been committed or they will be lost.\nconnection.close()\n",
      "execution_count": 28,
      "outputs": [
        {
          "output_type": "stream",
          "text": "(1, 'Adams', 'Andrew', 'General Manager', None, '1962-02-18 00:00:00', '2002-08-14 00:00:00', '11120 Jasper Ave NW', 'Edmonton', 'AB', 'Canada', 'T5K 2N1', '+1 (780) 428-9482', '+1 (780) 428-3457', 'andrew@chinookcorp.com')\n(2, 'Edwards', 'Nancy', 'Sales Manager', 1, '1958-12-08 00:00:00', '2002-05-01 00:00:00', '825 8 Ave SW', 'Calgary', 'AB', 'Canada', 'T2P 2T3', '+1 (403) 262-3443', '+1 (403) 262-3322', 'nancy@chinookcorp.com')\n(3, 'Peacock', 'Jane', 'Sales Support Agent', 2, '1973-08-29 00:00:00', '2002-04-01 00:00:00', '1111 6 Ave SW', 'Calgary', 'AB', 'Canada', 'T2P 5M5', '+1 (403) 262-3443', '+1 (403) 262-6712', 'jane@chinookcorp.com')\n(4, 'Park', 'Margaret', 'Sales Support Agent', 2, '1947-09-19 00:00:00', '2003-05-03 00:00:00', '683 10 Street SW', 'Calgary', 'AB', 'Canada', 'T2P 5G3', '+1 (403) 263-4423', '+1 (403) 263-4289', 'margaret@chinookcorp.com')\n(5, 'Johnson', 'Steve', 'Sales Support Agent', 2, '1965-03-03 00:00:00', '2003-10-17 00:00:00', '7727B 41 Ave', 'Calgary', 'AB', 'Canada', 'T3B 1Y7', '1 (780) 836-9987', '1 (780) 836-9543', 'steve@chinookcorp.com')\n(6, 'Mitchell', 'Michael', 'IT Manager', 1, '1973-07-01 00:00:00', '2003-10-17 00:00:00', '5827 Bowness Road NW', 'Calgary', 'AB', 'Canada', 'T3B 0C5', '+1 (403) 246-9887', '+1 (403) 246-9899', 'michael@chinookcorp.com')\n(7, 'King', 'Robert', 'IT Staff', 6, '1970-05-29 00:00:00', '2004-01-02 00:00:00', '590 Columbia Boulevard West', 'Lethbridge', 'AB', 'Canada', 'T1K 5N8', '+1 (403) 456-9986', '+1 (403) 456-8485', 'robert@chinookcorp.com')\n(8, 'Callahan', 'Laura', 'IT Staff', 6, '1968-01-09 00:00:00', '2004-03-04 00:00:00', '923 7 ST NW', 'Lethbridge', 'AB', 'Canada', 'T1H 1Y8', '+1 (403) 467-3351', '+1 (403) 467-8772', 'laura@chinookcorp.com')\n",
          "name": "stdout"
        }
      ]
    },
    {
      "metadata": {},
      "cell_type": "markdown",
      "source": "System Tables:  \n - **sqlite_master**\tMaster listing of all database objects in the database and the SQL used to create each object.\n - **sqlite_sequence**\tLists the last sequence number used for the AUTOINCREMENT column in a table.  \n   The sqlite_sequence table will only be created once an AUTOINCREMENT column has been defined in the database and   \n   at least one sequence number value has been generated and used in the database.\n - **sqlite_stat1**\tThis table is created by the ANALYZE command to store statistical information about the tables and  \n   indexes analyzed. This information will be later used by the query optimizer."
    },
    {
      "metadata": {
        "trusted": true
      },
      "cell_type": "code",
      "source": "# 1. Open connection.\ndb_file = 'sqlite_sample/chinook.db'\nconnection = sqlite3.connect(db_file)\n\n# 2. Get a cursor.\ncursor = connection.cursor()\nresult = cursor.execute(\"select * from sqlite_master\")\nfor row in result:\n    if row[0] == 'table':\n        print(row[1])\nconnection.close()",
      "execution_count": 31,
      "outputs": [
        {
          "output_type": "stream",
          "text": "albums\nsqlite_sequence\nartists\ncustomers\nemployees\ngenres\ninvoices\ninvoice_items\nmedia_types\nplaylists\nplaylist_track\ntracks\nsqlite_stat1\n",
          "name": "stdout"
        }
      ]
    }
  ],
  "metadata": {
    "kernelspec": {
      "name": "python36",
      "display_name": "Python 3.6",
      "language": "python"
    },
    "language_info": {
      "mimetype": "text/x-python",
      "nbconvert_exporter": "python",
      "name": "python",
      "pygments_lexer": "ipython3",
      "version": "3.6.6",
      "file_extension": ".py",
      "codemirror_mode": {
        "version": 3,
        "name": "ipython"
      }
    }
  },
  "nbformat": 4,
  "nbformat_minor": 2
}