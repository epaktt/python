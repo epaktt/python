{
  "cells": [
    {
      "metadata": {
        "trusted": true
      },
      "cell_type": "code",
      "source": "# A simple statement is comprised within a single logical line\na = 10",
      "execution_count": 1,
      "outputs": []
    },
    {
      "metadata": {
        "trusted": true
      },
      "cell_type": "code",
      "source": "assert a == 10",
      "execution_count": 4,
      "outputs": []
    },
    {
      "metadata": {
        "trusted": true
      },
      "cell_type": "code",
      "source": "assert a != 10",
      "execution_count": null,
      "outputs": []
    },
    {
      "metadata": {
        "trusted": true
      },
      "cell_type": "code",
      "source": "# augmented assignment statement\na = 10 + 1\na += 10",
      "execution_count": null,
      "outputs": []
    },
    {
      "metadata": {
        "trusted": true
      },
      "cell_type": "code",
      "source": "# annotated assignment statement\na = 'hello'\n\nupper_a = a.upper()\nprint(upper_a)\n",
      "execution_count": 23,
      "outputs": [
        {
          "output_type": "stream",
          "text": "HELLO\n",
          "name": "stdout"
        }
      ]
    },
    {
      "metadata": {
        "trusted": true
      },
      "cell_type": "code",
      "source": "# pass\na = 8\nif a >= 10:\n    pass\nelse:\n    print ('a is less than 10')",
      "execution_count": 26,
      "outputs": [
        {
          "output_type": "stream",
          "text": "a is less than 10\n",
          "name": "stdout"
        }
      ]
    },
    {
      "metadata": {
        "trusted": true
      },
      "cell_type": "code",
      "source": "# del statement.\n\na = ['one', 'two', 'three']\ndel a[1]\nprint(a)",
      "execution_count": 27,
      "outputs": [
        {
          "output_type": "stream",
          "text": "['one', 'three']\n",
          "name": "stdout"
        }
      ]
    },
    {
      "metadata": {
        "trusted": true
      },
      "cell_type": "code",
      "source": "# return statement.\ndef foo(x):\n    return x + 1\n\na = foo(1)\nprint(a)\n",
      "execution_count": 28,
      "outputs": [
        {
          "output_type": "stream",
          "text": "2\n",
          "name": "stdout"
        }
      ]
    },
    {
      "metadata": {
        "trusted": true
      },
      "cell_type": "code",
      "source": "# return statement, None by default.\ndef foo(x):\n    return\n\na = foo(1)\nprint(a)",
      "execution_count": 29,
      "outputs": [
        {
          "output_type": "stream",
          "text": "None\n",
          "name": "stdout"
        }
      ]
    },
    {
      "metadata": {
        "trusted": true
      },
      "cell_type": "code",
      "source": "# yield statement - will introduce in detail in generator section.\n\ndef foo(size_factor):\n    for x in range(size_factor):\n        if x % 3 == 0:\n            yield x\n            \ng = foo(10)\nprint(type(g))\n\ndividable_by_three_list = list(g)\nprint(dividable_by_three_list)",
      "execution_count": 32,
      "outputs": [
        {
          "output_type": "stream",
          "text": "<class 'generator'>\n[0, 3, 6, 9]\n",
          "name": "stdout"
        }
      ]
    },
    {
      "metadata": {
        "trusted": true
      },
      "cell_type": "code",
      "source": "# raise\n1/0",
      "execution_count": 33,
      "outputs": [
        {
          "output_type": "error",
          "ename": "ZeroDivisionError",
          "evalue": "division by zero",
          "traceback": [
            "\u001b[0;31m---------------------------------------------------------------------------\u001b[0m",
            "\u001b[0;31mZeroDivisionError\u001b[0m                         Traceback (most recent call last)",
            "\u001b[0;32m<ipython-input-33-e3542067540b>\u001b[0m in \u001b[0;36m<module>\u001b[0;34m\u001b[0m\n\u001b[1;32m      1\u001b[0m \u001b[0;31m# raise\u001b[0m\u001b[0;34m\u001b[0m\u001b[0;34m\u001b[0m\u001b[0m\n\u001b[0;32m----> 2\u001b[0;31m \u001b[0;36m1\u001b[0m\u001b[0;34m/\u001b[0m\u001b[0;36m0\u001b[0m\u001b[0;34m\u001b[0m\u001b[0m\n\u001b[0m",
            "\u001b[0;31mZeroDivisionError\u001b[0m: division by zero"
          ]
        }
      ]
    },
    {
      "metadata": {
        "trusted": true
      },
      "cell_type": "code",
      "source": "# raise\nraise ZeroDivisionError('something bad happened.')",
      "execution_count": 34,
      "outputs": [
        {
          "output_type": "error",
          "ename": "ZeroDivisionError",
          "evalue": "something bad happened.",
          "traceback": [
            "\u001b[0;31m---------------------------------------------------------------------------\u001b[0m",
            "\u001b[0;31mZeroDivisionError\u001b[0m                         Traceback (most recent call last)",
            "\u001b[0;32m<ipython-input-34-4c56dcd34b39>\u001b[0m in \u001b[0;36m<module>\u001b[0;34m\u001b[0m\n\u001b[1;32m      1\u001b[0m \u001b[0;31m# raise\u001b[0m\u001b[0;34m\u001b[0m\u001b[0;34m\u001b[0m\u001b[0m\n\u001b[0;32m----> 2\u001b[0;31m \u001b[0;32mraise\u001b[0m \u001b[0mZeroDivisionError\u001b[0m\u001b[0;34m(\u001b[0m\u001b[0;34m'something bad happened.'\u001b[0m\u001b[0;34m)\u001b[0m\u001b[0;34m\u001b[0m\u001b[0m\n\u001b[0m",
            "\u001b[0;31mZeroDivisionError\u001b[0m: something bad happened."
          ]
        }
      ]
    },
    {
      "metadata": {
        "trusted": true
      },
      "cell_type": "code",
      "source": "# break statement.\nfor i in range(100):\n    print('*' * i)\n    if i >= 10:\n        break\n\n    print('i = {}'.format(i))\n",
      "execution_count": 39,
      "outputs": [
        {
          "output_type": "stream",
          "text": "\ni = 0\n*\ni = 1\n**\ni = 2\n***\ni = 3\n****\ni = 4\n*****\ni = 5\n******\ni = 6\n*******\ni = 7\n********\ni = 8\n*********\ni = 9\n**********\n",
          "name": "stdout"
        }
      ]
    },
    {
      "metadata": {
        "trusted": true
      },
      "cell_type": "code",
      "source": "# continue statement - ignore all '7's.\nfor i in range(100):\n    if i % 7 == 0:\n        continue\n    if str(7) in str(i):\n        continue\n    print(i)",
      "execution_count": 42,
      "outputs": [
        {
          "output_type": "stream",
          "text": "1\n2\n3\n4\n5\n6\n8\n9\n10\n11\n12\n13\n15\n16\n18\n19\n20\n22\n23\n24\n25\n26\n29\n30\n31\n32\n33\n34\n36\n38\n39\n40\n41\n43\n44\n45\n46\n48\n50\n51\n52\n53\n54\n55\n58\n59\n60\n61\n62\n64\n65\n66\n68\n69\n80\n81\n82\n83\n85\n86\n88\n89\n90\n92\n93\n94\n95\n96\n99\n",
          "name": "stdout"
        }
      ]
    },
    {
      "metadata": {
        "trusted": true
      },
      "cell_type": "code",
      "source": "import datetime\n        \nprint(datetime.datetime.today().year)",
      "execution_count": 57,
      "outputs": [
        {
          "output_type": "stream",
          "text": "2019\n",
          "name": "stdout"
        }
      ]
    },
    {
      "metadata": {
        "trusted": true
      },
      "cell_type": "code",
      "source": "# global\na = ''\n\ndef foo():\n    global a\n    a += 'foo '\n\ndef bar():\n    global a\n    a += 'bar '\n    \nfoo()\nbar()\nbar()\nfoo()\nprint(a)",
      "execution_count": 73,
      "outputs": [
        {
          "output_type": "stream",
          "text": "foo bar bar foo \n",
          "name": "stdout"
        }
      ]
    },
    {
      "metadata": {
        "trusted": true
      },
      "cell_type": "code",
      "source": "# nonlocal\n\ndef outside():\n    msg = \"Outside!\"\n    def inside():\n        msg = \"Inside!\"\n        print(msg)\n    inside()\n    print(msg)\n\noutside()",
      "execution_count": 80,
      "outputs": [
        {
          "output_type": "stream",
          "text": "Inside!\nOutside!\nInside!\nInside!\n",
          "name": "stdout"
        }
      ]
    },
    {
      "metadata": {
        "trusted": true
      },
      "cell_type": "code",
      "source": "def outside():\n    msg = \"Outside!\"\n    def inside():\n        nonlocal msg\n        msg = \"Inside!\"\n        print(msg)\n    inside()\n    print(msg)\n    \noutside()",
      "execution_count": 81,
      "outputs": [
        {
          "output_type": "stream",
          "text": "Inside!\nInside!\n",
          "name": "stdout"
        }
      ]
    },
    {
      "metadata": {},
      "cell_type": "markdown",
      "source": "[Statements](https://docs.python.org/3.7/reference/simple_stmts.html)"
    }
  ],
  "metadata": {
    "kernelspec": {
      "name": "python36",
      "display_name": "Python 3.6",
      "language": "python"
    },
    "language_info": {
      "mimetype": "text/x-python",
      "nbconvert_exporter": "python",
      "name": "python",
      "pygments_lexer": "ipython3",
      "version": "3.6.6",
      "file_extension": ".py",
      "codemirror_mode": {
        "version": 3,
        "name": "ipython"
      }
    }
  },
  "nbformat": 4,
  "nbformat_minor": 1
}