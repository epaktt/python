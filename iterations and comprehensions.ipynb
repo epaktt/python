{
  "cells": [
    {
      "metadata": {
        "trusted": true
      },
      "cell_type": "code",
      "source": "words = ['cat', 'window', 'defenestrate']\nfor w in words:\n    print(w, len(w))",
      "execution_count": 1,
      "outputs": [
        {
          "output_type": "stream",
          "text": "cat 3\nwindow 6\ndefenestrate 12\n",
          "name": "stdout"
        }
      ]
    },
    {
      "metadata": {
        "trusted": true
      },
      "cell_type": "code",
      "source": "# Normal list\nsquares = []\nfor x in range(10):\n    squares.append(x**2)\n\nprint(squares)",
      "execution_count": 2,
      "outputs": [
        {
          "output_type": "stream",
          "text": "[0, 1, 4, 9, 16, 25, 36, 49, 64, 81]\n",
          "name": "stdout"
        }
      ]
    },
    {
      "metadata": {
        "trusted": true
      },
      "cell_type": "code",
      "source": "# List comprehensions\nsquares = [x**2 for x in range(10)]\nprint(squares)",
      "execution_count": 6,
      "outputs": [
        {
          "output_type": "stream",
          "text": "[0, 1, 4, 9, 16, 25, 36, 49, 64, 81]\n",
          "name": "stdout"
        }
      ]
    },
    {
      "metadata": {
        "trusted": true
      },
      "cell_type": "code",
      "source": "even_numbers = [x for x in range(20) if x % 2 == 0]\nprint(even_numbers)",
      "execution_count": 7,
      "outputs": [
        {
          "output_type": "stream",
          "text": "[0, 2, 4, 6, 8, 10, 12, 14, 16, 18]\n",
          "name": "stdout"
        }
      ]
    },
    {
      "metadata": {
        "trusted": true
      },
      "cell_type": "code",
      "source": "# Nested List Comprehensions\na_list = [(x, y) for x in [1,2,3] for y in [3,1,4] if x != y]\nprint(a_list)\n",
      "execution_count": 8,
      "outputs": [
        {
          "output_type": "stream",
          "text": "[(1, 3), (1, 4), (2, 3), (2, 1), (2, 4), (3, 1), (3, 4)]\n",
          "name": "stdout"
        }
      ]
    },
    {
      "metadata": {
        "trusted": true
      },
      "cell_type": "code",
      "source": "# Print a pyromid.\nfor i in range(20):\n    print(\"{star: >{space}}{star}\".format(star='*' * i, space=20))\n",
      "execution_count": 60,
      "outputs": [
        {
          "output_type": "stream",
          "text": "                    \n                   **\n                  ****\n                 ******\n                ********\n               **********\n              ************\n             **************\n            ****************\n           ******************\n          ********************\n         **********************\n        ************************\n       **************************\n      ****************************\n     ******************************\n    ********************************\n   **********************************\n  ************************************\n **************************************\n",
          "name": "stdout"
        }
      ]
    }
  ],
  "metadata": {
    "kernelspec": {
      "name": "python36",
      "display_name": "Python 3.6",
      "language": "python"
    },
    "language_info": {
      "mimetype": "text/x-python",
      "nbconvert_exporter": "python",
      "name": "python",
      "pygments_lexer": "ipython3",
      "version": "3.6.6",
      "file_extension": ".py",
      "codemirror_mode": {
        "version": 3,
        "name": "ipython"
      }
    }
  },
  "nbformat": 4,
  "nbformat_minor": 1
}