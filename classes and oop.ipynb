{
  "cells": [
    {
      "metadata": {},
      "cell_type": "markdown",
      "source": "[Classes](https://docs.python.org/3/tutorial/classes.html)"
    },
    {
      "metadata": {
        "trusted": true
      },
      "cell_type": "code",
      "source": "class MyClass:\n    \"\"\"A simple example class\"\"\"\n    i = 12345\n\n    def f(self):\n        return 'hello world'",
      "execution_count": 6,
      "outputs": []
    },
    {
      "metadata": {
        "trusted": true
      },
      "cell_type": "code",
      "source": "class Person:\n    height = 0.0\n    weight = 0.0\n    name = ''\n    \n    def __init__(self, name):\n        self.name = name\n\n    def tell_name(self):\n        if self.name:\n            print('Hi my name is {}'.format(self.name))\n        else:\n            print(\"I don't have a name yet.\")",
      "execution_count": 14,
      "outputs": []
    },
    {
      "metadata": {
        "trusted": true
      },
      "cell_type": "code",
      "source": "class Employ(Person):\n    title = ''\n    \n    def __init__(self, name, title):\n        self.title = title\n        super().__init__(name)\n    \n    def tell_title(self):\n        print(\"Hi I'm a {}\".format(self.title))",
      "execution_count": 20,
      "outputs": []
    },
    {
      "metadata": {
        "trusted": true
      },
      "cell_type": "code",
      "source": "e1 = Employ('tom', 'software engineer')\ne1.tell_name()\ne1.tell_title()",
      "execution_count": 21,
      "outputs": [
        {
          "output_type": "stream",
          "text": "Hi my name is tom\nHi I'm a software engineer\n",
          "name": "stdout"
        }
      ]
    }
  ],
  "metadata": {
    "kernelspec": {
      "name": "python36",
      "display_name": "Python 3.6",
      "language": "python"
    },
    "language_info": {
      "mimetype": "text/x-python",
      "nbconvert_exporter": "python",
      "name": "python",
      "pygments_lexer": "ipython3",
      "version": "3.6.6",
      "file_extension": ".py",
      "codemirror_mode": {
        "version": 3,
        "name": "ipython"
      }
    }
  },
  "nbformat": 4,
  "nbformat_minor": 1
}