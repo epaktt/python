{
 "cells": [
  {
   "cell_type": "markdown",
   "metadata": {},
   "source": [
    "[Classes](https://docs.python.org/3/tutorial/classes.html)"
   ]
  },
  {
   "cell_type": "code",
   "execution_count": 6,
   "metadata": {},
   "outputs": [],
   "source": [
    "class MyClass:\n",
    "    \"\"\"A simple example class\"\"\"\n",
    "    i = 12345\n",
    "\n",
    "    def f(self):\n",
    "        return 'hello world'"
   ]
  },
  {
   "cell_type": "code",
   "execution_count": 8,
   "metadata": {},
   "outputs": [
    {
     "name": "stdout",
     "output_type": "stream",
     "text": [
      "False\n",
      "['__class__', '__delattr__', '__dict__', '__dir__', '__doc__', '__eq__', '__format__', '__ge__', '__getattribute__', '__gt__', '__hash__', '__init__', '__init_subclass__', '__le__', '__lt__', '__module__', '__ne__', '__new__', '__reduce__', '__reduce_ex__', '__repr__', '__setattr__', '__sizeof__', '__str__', '__subclasshook__', '__weakref__', 'height', 'name', 'weight']\n",
      "0.0\n",
      "name is tom, height is 180cm, weight is 80kg\n"
     ]
    }
   ],
   "source": [
    "class Person:\n",
    "    height = 0.0\n",
    "    weight = 0.0\n",
    "    name = ''\n",
    "    \n",
    "    def __str__(self):\n",
    "        return f'name is {self.name}, height is {self.height}cm, weight is {self.weight}kg'\n",
    "\n",
    "# Instantization.\n",
    "tom = Person()\n",
    "jerry = Person()\n",
    "\n",
    "print(tom is jerry)\n",
    "print(dir(tom))\n",
    "print(tom.height)\n",
    "\n",
    "tom.height = 180\n",
    "tom.name = 'tom'\n",
    "tom.weight = 80\n",
    "\n",
    "jerry.height = 170\n",
    "jerry.name = 'jerry'\n",
    "jerry.weight = 70\n",
    "\n",
    "print(tom)"
   ]
  },
  {
   "cell_type": "code",
   "execution_count": 10,
   "metadata": {},
   "outputs": [
    {
     "name": "stdout",
     "output_type": "stream",
     "text": [
      "Hi my name is tom\n",
      "Hi my name is jerry\n",
      "I don't have a name yet.\n"
     ]
    }
   ],
   "source": [
    "class Person:\n",
    "    height = 0.0\n",
    "    weight = 0.0\n",
    "    name = ''\n",
    "    \n",
    "    def __str__(self):\n",
    "        return f'name is {self.name}, height is {self.height}cm, weight is {self.weight}kg'\n",
    "        \n",
    "    def tell_name(self):\n",
    "        if self.name:\n",
    "            print(f'Hi my name is {self.name}')\n",
    "        else:\n",
    "            print(\"I don't have a name yet.\")\n",
    "            \n",
    "# Instantization.\n",
    "tom = Person()\n",
    "jerry = Person()\n",
    "\n",
    "tom.height = 180\n",
    "tom.name = 'tom'\n",
    "tom.weight = 80\n",
    "\n",
    "jerry.height = 170\n",
    "jerry.name = 'jerry'\n",
    "jerry.weight = 70\n",
    "\n",
    "tom.tell_name()\n",
    "jerry.tell_name()\n",
    "\n",
    "bob = Person()\n",
    "bob.tell_name()"
   ]
  },
  {
   "cell_type": "code",
   "execution_count": 13,
   "metadata": {},
   "outputs": [
    {
     "name": "stdout",
     "output_type": "stream",
     "text": [
      "Hi my name is tom\n",
      "Hi my name is jerry\n",
      "Hi my name is bob\n"
     ]
    }
   ],
   "source": [
    "class Person:\n",
    "    height = 0.0\n",
    "    weight = 0.0\n",
    "    name = ''\n",
    "    \n",
    "    def __init__(self, name, height='', weight=0):\n",
    "        self.weight = weight\n",
    "        self.height = height\n",
    "        self.name = name\n",
    "\n",
    "    def __str__(self):\n",
    "        return f'name is {self.name}, height is {self.height}cm, weight is {self.weight}kg'\n",
    "        \n",
    "    def tell_name(self):\n",
    "        if self.name:\n",
    "            print(f'Hi my name is {self.name}')\n",
    "        else:\n",
    "            print(\"I don't have a name yet.\")\n",
    "            \n",
    "tom = Person(name='tom', height=180, weight=80)\n",
    "jerry = Person(name='jerry', height=170, weight=70)\n",
    "\n",
    "tom.tell_name()\n",
    "jerry.tell_name()\n",
    "\n",
    "bob = Person(name='bob')\n",
    "bob.tell_name()"
   ]
  },
  {
   "cell_type": "code",
   "execution_count": 14,
   "metadata": {},
   "outputs": [],
   "source": [
    "class Employee(Person):\n",
    "    title = ''\n",
    "    \n",
    "    def __init__(self, name, title):\n",
    "        self.title = title\n",
    "        self.name = name\n",
    "    \n",
    "    def tell_title(self):\n",
    "        print(f\"Hi I'm a {self.title}\")"
   ]
  },
  {
   "cell_type": "code",
   "execution_count": 16,
   "metadata": {},
   "outputs": [
    {
     "name": "stdout",
     "output_type": "stream",
     "text": [
      "Hi my name is tom\n",
      "Hi I'm a software engineer\n",
      "['__class__', '__delattr__', '__dict__', '__dir__', '__doc__', '__eq__', '__format__', '__ge__', '__getattribute__', '__gt__', '__hash__', '__init__', '__init_subclass__', '__le__', '__lt__', '__module__', '__ne__', '__new__', '__reduce__', '__reduce_ex__', '__repr__', '__setattr__', '__sizeof__', '__str__', '__subclasshook__', '__weakref__', 'height', 'name', 'tell_name', 'tell_title', 'title', 'weight']\n"
     ]
    }
   ],
   "source": [
    "e1 = Employee('tom', 'software engineer')\n",
    "e1.tell_name()\n",
    "e1.tell_title()\n",
    "print(dir(e1))"
   ]
  },
  {
   "cell_type": "code",
   "execution_count": 18,
   "metadata": {},
   "outputs": [
    {
     "name": "stdout",
     "output_type": "stream",
     "text": [
      "I don't have a name yet.\n"
     ]
    }
   ],
   "source": [
    "class Employee(Person):\n",
    "    title = ''\n",
    "    \n",
    "    def __init__(self, title):\n",
    "        self.title = title\n",
    "    \n",
    "    def tell_title(self):\n",
    "        print(f\"Hi I'm a {self.title}\")\n",
    "        \n",
    "employee_1 = Employee(title='Software Engineer')\n",
    "employee_1.tell_name()"
   ]
  },
  {
   "cell_type": "code",
   "execution_count": null,
   "metadata": {},
   "outputs": [],
   "source": []
  },
  {
   "cell_type": "code",
   "execution_count": 20,
   "metadata": {},
   "outputs": [],
   "source": [
    "class Employee(Person):\n",
    "    title = ''\n",
    "    height = ''\n",
    "    \n",
    "    def __init__(self, name, title, height='', weight=''):\n",
    "        self.title = title\n",
    "        super().__init__(name, height, weight)\n",
    "    \n",
    "    def tell_title(self):\n",
    "        print(\"Hi I'm a {}\".format(self.title))"
   ]
  },
  {
   "cell_type": "code",
   "execution_count": 21,
   "metadata": {},
   "outputs": [
    {
     "name": "stdout",
     "output_type": "stream",
     "text": [
      "Hi my name is tom\n",
      "Hi I'm a software engineer\n"
     ]
    }
   ],
   "source": [
    "e1 = Employee('tom', 'software engineer')\n",
    "e1.tell_name()\n",
    "e1.tell_title()"
   ]
  }
 ],
 "metadata": {
  "kernelspec": {
   "display_name": "Python 3",
   "language": "python",
   "name": "python3"
  },
  "language_info": {
   "codemirror_mode": {
    "name": "ipython",
    "version": 3
   },
   "file_extension": ".py",
   "mimetype": "text/x-python",
   "name": "python",
   "nbconvert_exporter": "python",
   "pygments_lexer": "ipython3",
   "version": "3.7.2"
  }
 },
 "nbformat": 4,
 "nbformat_minor": 1
}
