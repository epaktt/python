{
 "cells": [
  {
   "cell_type": "markdown",
   "metadata": {},
   "source": [
    "[Classes](https://docs.python.org/3/tutorial/classes.html)"
   ]
  },
  {
   "cell_type": "code",
   "execution_count": 6,
   "metadata": {},
   "outputs": [],
   "source": [
    "class MyClass:\n",
    "    \"\"\"A simple example class\"\"\"\n",
    "    i = 12345\n",
    "\n",
    "    def f(self):\n",
    "        return 'hello world'"
   ]
  },
  {
   "cell_type": "code",
   "execution_count": 8,
   "metadata": {},
   "outputs": [
    {
     "name": "stdout",
     "output_type": "stream",
     "text": [
      "False\n",
      "['__class__', '__delattr__', '__dict__', '__dir__', '__doc__', '__eq__', '__format__', '__ge__', '__getattribute__', '__gt__', '__hash__', '__init__', '__init_subclass__', '__le__', '__lt__', '__module__', '__ne__', '__new__', '__reduce__', '__reduce_ex__', '__repr__', '__setattr__', '__sizeof__', '__str__', '__subclasshook__', '__weakref__', 'height', 'name', 'weight']\n",
      "0.0\n",
      "name is tom, height is 180cm, weight is 80kg\n"
     ]
    }
   ],
   "source": [
    "class Person:\n",
    "    height = 0.0\n",
    "    weight = 0.0\n",
    "    name = ''\n",
    "    \n",
    "    def __str__(self):\n",
    "        return f'name is {self.name}, height is {self.height}cm, weight is {self.weight}kg'\n",
    "\n",
    "# Instantization.\n",
    "tom = Person()\n",
    "jerry = Person()\n",
    "\n",
    "print(tom is jerry)\n",
    "print(dir(tom))\n",
    "print(tom.height)\n",
    "\n",
    "tom.height = 180\n",
    "tom.name = 'tom'\n",
    "tom.weight = 80\n",
    "\n",
    "jerry.height = 170\n",
    "jerry.name = 'jerry'\n",
    "jerry.weight = 70\n",
    "\n",
    "print(tom)"
   ]
  },
  {
   "cell_type": "code",
   "execution_count": 10,
   "metadata": {},
   "outputs": [
    {
     "name": "stdout",
     "output_type": "stream",
     "text": [
      "Hi my name is tom\n",
      "Hi my name is jerry\n",
      "I don't have a name yet.\n"
     ]
    }
   ],
   "source": [
    "class Person:\n",
    "    height = 0.0\n",
    "    weight = 0.0\n",
    "    name = ''\n",
    "    \n",
    "    def __str__(self):\n",
    "        return f'name is {self.name}, height is {self.height}cm, weight is {self.weight}kg'\n",
    "        \n",
    "    def tell_name(self):\n",
    "        if self.name:\n",
    "            print(f'Hi my name is {self.name}')\n",
    "        else:\n",
    "            print(\"I don't have a name yet.\")\n",
    "            \n",
    "# Instantization.\n",
    "tom = Person()\n",
    "jerry = Person()\n",
    "\n",
    "tom.height = 180\n",
    "tom.name = 'tom'\n",
    "tom.weight = 80\n",
    "\n",
    "jerry.height = 170\n",
    "jerry.name = 'jerry'\n",
    "jerry.weight = 70\n",
    "\n",
    "tom.tell_name()\n",
    "jerry.tell_name()\n",
    "\n",
    "bob = Person()\n",
    "bob.tell_name()"
   ]
  },
  {
   "cell_type": "code",
   "execution_count": 12,
   "metadata": {},
   "outputs": [
    {
     "name": "stdout",
     "output_type": "stream",
     "text": [
      "Hi my name is tom\n",
      "Hi my name is jerry\n"
     ]
    },
    {
     "ename": "TypeError",
     "evalue": "__init__() missing 3 required positional arguments: 'name', 'height', and 'weight'",
     "traceback": [
      "\u001b[0;31m---------------------------------------------------------------------------\u001b[0m",
      "\u001b[0;31mTypeError\u001b[0m                                 Traceback (most recent call last)",
      "\u001b[0;32m<ipython-input-12-2707207adf41>\u001b[0m in \u001b[0;36m<module>\u001b[0;34m()\u001b[0m\n\u001b[1;32m     24\u001b[0m \u001b[0mjerry\u001b[0m\u001b[0;34m.\u001b[0m\u001b[0mtell_name\u001b[0m\u001b[0;34m(\u001b[0m\u001b[0;34m)\u001b[0m\u001b[0;34m\u001b[0m\u001b[0;34m\u001b[0m\u001b[0m\n\u001b[1;32m     25\u001b[0m \u001b[0;34m\u001b[0m\u001b[0m\n\u001b[0;32m---> 26\u001b[0;31m \u001b[0mbob\u001b[0m \u001b[0;34m=\u001b[0m \u001b[0mPerson\u001b[0m\u001b[0;34m(\u001b[0m\u001b[0;34m)\u001b[0m\u001b[0;34m\u001b[0m\u001b[0;34m\u001b[0m\u001b[0m\n\u001b[0m",
      "\u001b[0;31mTypeError\u001b[0m: __init__() missing 3 required positional arguments: 'name', 'height', and 'weight'"
     ],
     "output_type": "error"
    }
   ],
   "source": [
    "class Person:\n",
    "    height = 0.0\n",
    "    weight = 0.0\n",
    "    name = ''\n",
    "    \n",
    "    def __init__(self, name, height='', weight=0):\n",
    "        self.weight = weight\n",
    "        self.height = height\n",
    "        self.name = name\n",
    "\n",
    "    def __str__(self):\n",
    "        return f'name is {self.name}, height is {self.height}cm, weight is {self.weight}kg'\n",
    "        \n",
    "    def tell_name(self):\n",
    "        if self.name:\n",
    "            print(f'Hi my name is {self.name}')\n",
    "        else:\n",
    "            print(\"I don't have a name yet.\")\n",
    "            \n",
    "tom = Person(name='tom', height=180, weight=80)\n",
    "jerry = Person(name='jerry', height=170, weight=70)\n",
    "\n",
    "tom.tell_name()\n",
    "jerry.tell_name()\n",
    "\n",
    "bob = Person(name='bob')\n"
   ]
  },
  {
   "cell_type": "code",
   "execution_count": 20,
   "metadata": {},
   "outputs": [],
   "source": [
    "class Employ(Person):\n",
    "    title = ''\n",
    "    \n",
    "    def __init__(self, name, title):\n",
    "        self.title = title\n",
    "        super().__init__(name)\n",
    "    \n",
    "    def tell_title(self):\n",
    "        print(\"Hi I'm a {}\".format(self.title))"
   ]
  },
  {
   "cell_type": "code",
   "execution_count": 21,
   "metadata": {},
   "outputs": [
    {
     "name": "stdout",
     "output_type": "stream",
     "text": [
      "Hi my name is tom\n",
      "Hi I'm a software engineer\n"
     ]
    }
   ],
   "source": [
    "e1 = Employ('tom', 'software engineer')\n",
    "e1.tell_name()\n",
    "e1.tell_title()"
   ]
  }
 ],
 "metadata": {
  "kernelspec": {
   "display_name": "Python 3",
   "language": "python",
   "name": "python3"
  },
  "language_info": {
   "codemirror_mode": {
    "name": "ipython",
    "version": 3
   },
   "file_extension": ".py",
   "mimetype": "text/x-python",
   "name": "python",
   "nbconvert_exporter": "python",
   "pygments_lexer": "ipython3",
   "version": "3.7.2"
  }
 },
 "nbformat": 4,
 "nbformat_minor": 1
}
