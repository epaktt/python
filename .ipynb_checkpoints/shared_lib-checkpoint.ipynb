{
  "cells": [
    {
      "metadata": {
        "trusted": true
      },
      "cell_type": "code",
      "source": "# this is a module.\nfrom datetime import datetime\ndef calculate_age(birth_year):\n    return datetime.today().year - birth_year\n\n# test.\nif __name__ == '__main__':\n    assert calculate_age(1990) == datetime.today().year - 1990\n    # write content of this file into shared_lib.py\n    with open(__file__, 'r') as f:\n        content = f.read()\n        ",
      "execution_count": 8,
      "outputs": []
    }
  ],
  "metadata": {
    "kernelspec": {
      "name": "python36",
      "display_name": "Python 3.6",
      "language": "python"
    },
    "language_info": {
      "mimetype": "text/x-python",
      "nbconvert_exporter": "python",
      "name": "python",
      "pygments_lexer": "ipython3",
      "version": "3.6.6",
      "file_extension": ".py",
      "codemirror_mode": {
        "version": 3,
        "name": "ipython"
      }
    }
  },
  "nbformat": 4,
  "nbformat_minor": 1
}