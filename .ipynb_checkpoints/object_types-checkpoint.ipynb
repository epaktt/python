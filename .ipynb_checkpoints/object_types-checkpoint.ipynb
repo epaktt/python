{
  "cells": [
    {
      "metadata": {
        "trusted": true
      },
      "cell_type": "code",
      "source": "type(10)",
      "execution_count": 1,
      "outputs": [
        {
          "output_type": "execute_result",
          "execution_count": 1,
          "data": {
            "text/plain": "int"
          },
          "metadata": {}
        }
      ]
    },
    {
      "metadata": {
        "trusted": true
      },
      "cell_type": "code",
      "source": "",
      "execution_count": null,
      "outputs": []
    },
    {
      "metadata": {
        "trusted": true
      },
      "cell_type": "code",
      "source": "type(10.0)",
      "execution_count": 2,
      "outputs": [
        {
          "output_type": "execute_result",
          "execution_count": 2,
          "data": {
            "text/plain": "float"
          },
          "metadata": {}
        }
      ]
    },
    {
      "metadata": {
        "trusted": true
      },
      "cell_type": "code",
      "source": "type(\"hello world\")",
      "execution_count": 3,
      "outputs": [
        {
          "output_type": "execute_result",
          "execution_count": 3,
          "data": {
            "text/plain": "str"
          },
          "metadata": {}
        }
      ]
    },
    {
      "metadata": {
        "trusted": true
      },
      "cell_type": "code",
      "source": "# Escape Sequences in Strings\n# For a string\n# 'This string contains a single quote (') character.'\nstring_1 = 'This string contains a single quote (') character.'",
      "execution_count": null,
      "outputs": []
    },
    {
      "metadata": {
        "trusted": true
      },
      "cell_type": "code",
      "source": "string_1 = \"This string contains a single quote (') character.\"\nstring_2 = 'This string contains a single quote (\\') character.'",
      "execution_count": null,
      "outputs": []
    },
    {
      "metadata": {
        "trusted": true
      },
      "cell_type": "code",
      "source": "string_3 = 'a\\\nb\\\nc\\\nd'\n\nprint(string_3)",
      "execution_count": 34,
      "outputs": [
        {
          "output_type": "stream",
          "text": "abcd\n",
          "name": "stdout"
        }
      ]
    },
    {
      "metadata": {
        "trusted": true
      },
      "cell_type": "code",
      "source": "string_4 = \"\"\"hello world\"\"\"\nprint(string_4)\n\nstring_5 = \"\"\"our first program is always \"hello world\" \"\"\"\nprint(string_5)",
      "execution_count": 41,
      "outputs": [
        {
          "output_type": "stream",
          "text": "hello world\nour first program is always \"hello world\" \n",
          "name": "stdout"
        }
      ]
    },
    {
      "metadata": {
        "trusted": true
      },
      "cell_type": "code",
      "source": "list_example1 = [1,2,3,4,5]",
      "execution_count": null,
      "outputs": []
    },
    {
      "metadata": {
        "trusted": true
      },
      "cell_type": "code",
      "source": "list_example2 = ['a', 'b', 'c', 'abcdefg']",
      "execution_count": null,
      "outputs": []
    },
    {
      "metadata": {
        "trusted": true
      },
      "cell_type": "code",
      "source": "list_example3 = [1, 2, 'a', 10.10, None]",
      "execution_count": 4,
      "outputs": []
    },
    {
      "metadata": {
        "trusted": true
      },
      "cell_type": "code",
      "source": "dict_example = {'one': 1, 'two': 2}",
      "execution_count": 9,
      "outputs": []
    },
    {
      "metadata": {
        "trusted": true
      },
      "cell_type": "code",
      "source": "print(dict_example['one'])",
      "execution_count": 10,
      "outputs": [
        {
          "output_type": "stream",
          "text": "1\n",
          "name": "stdout"
        }
      ]
    },
    {
      "metadata": {
        "trusted": true
      },
      "cell_type": "code",
      "source": "dict_example['three'] = 3\nprint(dict_example)",
      "execution_count": 11,
      "outputs": [
        {
          "output_type": "stream",
          "text": "{'one': 1, 'two': 2, 'three': 3}\n",
          "name": "stdout"
        }
      ]
    },
    {
      "metadata": {
        "trusted": true
      },
      "cell_type": "code",
      "source": "tuple_example = (1, 2, 3, 4)\nprint(tuple_example[3])",
      "execution_count": 12,
      "outputs": [
        {
          "output_type": "stream",
          "text": "4\n",
          "name": "stdout"
        }
      ]
    },
    {
      "metadata": {
        "trusted": true,
        "collapsed": true
      },
      "cell_type": "code",
      "source": "tuple_example[3] = 0",
      "execution_count": 13,
      "outputs": [
        {
          "output_type": "error",
          "ename": "TypeError",
          "evalue": "'tuple' object does not support item assignment",
          "traceback": [
            "\u001b[0;31m---------------------------------------------------------------------------\u001b[0m",
            "\u001b[0;31mTypeError\u001b[0m                                 Traceback (most recent call last)",
            "\u001b[0;32m<ipython-input-13-0e5dd3b69e5b>\u001b[0m in \u001b[0;36m<module>\u001b[0;34m\u001b[0m\n\u001b[0;32m----> 1\u001b[0;31m \u001b[0mtuple_example\u001b[0m\u001b[0;34m[\u001b[0m\u001b[0;36m3\u001b[0m\u001b[0;34m]\u001b[0m \u001b[0;34m=\u001b[0m \u001b[0;36m0\u001b[0m\u001b[0;34m\u001b[0m\u001b[0m\n\u001b[0m",
            "\u001b[0;31mTypeError\u001b[0m: 'tuple' object does not support item assignment"
          ]
        }
      ]
    },
    {
      "metadata": {
        "trusted": true
      },
      "cell_type": "code",
      "source": "hash(tuple_example)",
      "execution_count": 21,
      "outputs": [
        {
          "output_type": "execute_result",
          "execution_count": 21,
          "data": {
            "text/plain": "485696759010151909"
          },
          "metadata": {}
        }
      ]
    },
    {
      "metadata": {
        "trusted": true
      },
      "cell_type": "code",
      "source": "set_1 = {1, 2, 3, 'one', 'two', 'three', 1, 2, 3}\nprint(set_example)",
      "execution_count": 24,
      "outputs": [
        {
          "output_type": "stream",
          "text": "{'two', 1, 2, 3, 'one', 'three'}\n",
          "name": "stdout"
        }
      ]
    },
    {
      "metadata": {
        "trusted": true
      },
      "cell_type": "code",
      "source": "set_2 = {1, 'one', 2, 'two', 'three', 10.1, -2, -3}\ncommon_elements = set_1 & set_2\nprint(common_elements)",
      "execution_count": 27,
      "outputs": [
        {
          "output_type": "stream",
          "text": "{'two', 2, 1, 'one', 'three'}\n",
          "name": "stdout"
        }
      ]
    },
    {
      "metadata": {
        "trusted": true
      },
      "cell_type": "code",
      "source": "# Complex numbers\ncomplex_1 = 1 + 2j\ncomplex_2 = 3 + 4j\n\ncomplex_3 = complex_1 + complex_2\nprint(complex_3)\n\ncomplex_4 = complex_1 * complex_2\nprint(complex_4)",
      "execution_count": 32,
      "outputs": [
        {
          "output_type": "stream",
          "text": "(4+6j)\n(-5+10j)\n",
          "name": "stdout"
        }
      ]
    },
    {
      "metadata": {},
      "cell_type": "markdown",
      "source": "[Python build in functions](https://www.programiz.com/python-programming/methods)\nDictionary functions\n"
    }
  ],
  "metadata": {
    "kernelspec": {
      "name": "python36",
      "display_name": "Python 3.6",
      "language": "python"
    },
    "language_info": {
      "mimetype": "text/x-python",
      "nbconvert_exporter": "python",
      "name": "python",
      "pygments_lexer": "ipython3",
      "version": "3.6.6",
      "file_extension": ".py",
      "codemirror_mode": {
        "version": 3,
        "name": "ipython"
      }
    }
  },
  "nbformat": 4,
  "nbformat_minor": 2
}