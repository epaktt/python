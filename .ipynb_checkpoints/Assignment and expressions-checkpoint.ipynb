{
  "cells": [
    {
      "metadata": {},
      "cell_type": "markdown",
      "source": "Assignment statement syntax:\n\n< variable > = < expression >"
    },
    {
      "metadata": {
        "trusted": true
      },
      "cell_type": "code",
      "source": "some_variable = 20",
      "execution_count": 2,
      "outputs": []
    },
    {
      "metadata": {},
      "cell_type": "markdown",
      "source": "Variables can be bound and rebound to values of different types"
    },
    {
      "metadata": {
        "trusted": true
      },
      "cell_type": "code",
      "source": "some_variable = 10.3456\nsome_variable = 6 + 2j\nsome_variable = 'hello'\nsome_variable = None\nsome_variable = False",
      "execution_count": 7,
      "outputs": []
    },
    {
      "metadata": {},
      "cell_type": "markdown",
      "source": "When the right side of an assignment is a variable, the left side is set to point to the same value as the right\nside."
    },
    {
      "metadata": {
        "trusted": true
      },
      "cell_type": "code",
      "source": "a = 10\nb = a\n\nprint(b)\n\na = 30 \n\nprint (b)",
      "execution_count": 16,
      "outputs": [
        {
          "output_type": "stream",
          "text": "10\n10\n",
          "name": "stdout"
        }
      ]
    },
    {
      "metadata": {},
      "cell_type": "markdown",
      "source": "Multiple variables can be assigned in a single assignment statement\n\n– Syntax: < var tuple > = < expression tuple >"
    },
    {
      "metadata": {
        "trusted": true
      },
      "cell_type": "code",
      "source": "a, b = 10, 'hello'\nprint(a,\",\", b)",
      "execution_count": 14,
      "outputs": [
        {
          "output_type": "stream",
          "text": "10 , hello\n",
          "name": "stdout"
        }
      ]
    },
    {
      "metadata": {},
      "cell_type": "markdown",
      "source": "Common immutable type:\n\n - numbers: int(), float(), complex()\n - immutable sequences: str(), tuple(), frozenset(), bytes()\n\nCommon mutable type (almost everything else):\n\n - mutable sequences: list(), bytearray()\n - set type: set()\n - mapping type: dict()\n - classes, class instances"
    },
    {
      "metadata": {
        "trusted": true
      },
      "cell_type": "code",
      "source": "a_list = [1,2,3,4]\nb_list = a_list\n\na_list[0] = 10\nprint(b_list)",
      "execution_count": 17,
      "outputs": [
        {
          "output_type": "stream",
          "text": "[10, 2, 3, 4]\n",
          "name": "stdout"
        }
      ]
    }
  ],
  "metadata": {
    "kernelspec": {
      "name": "python36",
      "display_name": "Python 3.6",
      "language": "python"
    },
    "language_info": {
      "mimetype": "text/x-python",
      "nbconvert_exporter": "python",
      "name": "python",
      "pygments_lexer": "ipython3",
      "version": "3.6.6",
      "file_extension": ".py",
      "codemirror_mode": {
        "version": 3,
        "name": "ipython"
      }
    }
  },
  "nbformat": 4,
  "nbformat_minor": 1
}