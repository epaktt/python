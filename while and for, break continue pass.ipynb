{
  "cells": [
    {
      "metadata": {
        "trusted": true
      },
      "cell_type": "code",
      "source": "command = input()\nwhile(command != \"quit\"):\n    print (\"user input is:\", command)\n    command = input()",
      "execution_count": 2,
      "outputs": [
        {
          "output_type": "stream",
          "name": "stdout",
          "text": "hello\nuser input is: hello\nhello again\nuser input is: hello again\n10\nuser input is: 10\nquit\n"
        }
      ]
    },
    {
      "metadata": {
        "trusted": true
      },
      "cell_type": "code",
      "source": "for i in range(10):\n    print (\"the current number is:\", i)",
      "execution_count": 3,
      "outputs": [
        {
          "output_type": "stream",
          "text": "the current number is: 0\nthe current number is: 1\nthe current number is: 2\nthe current number is: 3\nthe current number is: 4\nthe current number is: 5\nthe current number is: 6\nthe current number is: 7\nthe current number is: 8\nthe current number is: 9\n",
          "name": "stdout"
        }
      ]
    },
    {
      "metadata": {},
      "cell_type": "markdown",
      "source": "Loop statements may have an else clause; it is executed when the loop terminates through exhaustion of the list (with for) or when the condition becomes false (with while), but not when the loop is terminated by a break statement. This is exemplified by the following loop, which searches for prime numbers:\n\n"
    },
    {
      "metadata": {
        "trusted": true
      },
      "cell_type": "code",
      "source": "for n in range(2, 10):\n    for x in range(2, n):\n        if n % x == 0:\n            print(n, 'equals', x, '*', n//x)\n            break\n    else:\n        # loop fell through without finding a factor\n        print(n, 'is a prime number')",
      "execution_count": 5,
      "outputs": [
        {
          "output_type": "stream",
          "text": "2 is a prime number\n3 is a prime number\n4 equals 2 * 2\n5 is a prime number\n6 equals 2 * 3\n7 is a prime number\n8 equals 2 * 4\n9 equals 3 * 3\n",
          "name": "stdout"
        }
      ]
    },
    {
      "metadata": {},
      "cell_type": "markdown",
      "source": "**break** breaks out of the innermost enclosing **for** or **while** loop."
    },
    {
      "metadata": {},
      "cell_type": "markdown",
      "source": "**continue** continues with the next iteration of the loop"
    },
    {
      "metadata": {},
      "cell_type": "markdown",
      "source": "The **pass** statement does nothing. It can be used when a statement is required syntactically but the program requires no action."
    },
    {
      "metadata": {
        "trusted": true
      },
      "cell_type": "code",
      "source": "# This is commonly used for creating minimal classes\nclass Foo():\n    pass\n\na = Foo()\na.field_one = 1\n\nprint(a)",
      "execution_count": 8,
      "outputs": [
        {
          "output_type": "stream",
          "text": "<__main__.Foo object at 0x7f7b749f1dd8>\n",
          "name": "stdout"
        }
      ]
    }
  ],
  "metadata": {
    "kernelspec": {
      "name": "python36",
      "display_name": "Python 3.6",
      "language": "python"
    },
    "language_info": {
      "mimetype": "text/x-python",
      "nbconvert_exporter": "python",
      "name": "python",
      "pygments_lexer": "ipython3",
      "version": "3.6.6",
      "file_extension": ".py",
      "codemirror_mode": {
        "version": 3,
        "name": "ipython"
      }
    }
  },
  "nbformat": 4,
  "nbformat_minor": 1
}