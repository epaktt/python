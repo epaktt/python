{
  "cells": [
    {
      "metadata": {
        "trusted": true
      },
      "cell_type": "markdown",
      "source": "map(function, iterable, ...)\n\nReturn an iterator that applies function to every item of iterable, yielding the results."
    },
    {
      "metadata": {
        "trusted": true
      },
      "cell_type": "code",
      "source": "# Converting a list of numbers to a list of words\n#numer_list = range(10)\n# Need to install a pip package, num2words.\n!pip install num2words",
      "execution_count": 1,
      "outputs": [
        {
          "output_type": "stream",
          "text": "Collecting num2words\n\u001b[?25l  Downloading https://files.pythonhosted.org/packages/97/59/daea20448b3bf3cc07694f393a2a9d06439e4c9a96f83734d9d2c5231703/num2words-0.5.9-py3-none-any.whl (99kB)\n\u001b[K    100% |████████████████████████████████| 102kB 1.4MB/s a 0:00:01\n\u001b[?25hCollecting docopt>=0.6.2 (from num2words)\n  Downloading https://files.pythonhosted.org/packages/a2/55/8f8cab2afd404cf578136ef2cc5dfb50baa1761b68c9da1fb1e4eed343c9/docopt-0.6.2.tar.gz\nBuilding wheels for collected packages: docopt\n  Running setup.py bdist_wheel for docopt ... \u001b[?25ldone\n\u001b[?25h  Stored in directory: /home/nbuser/.cache/pip/wheels/9b/04/dd/7daf4150b6d9b12949298737de9431a324d4b797ffd63f526e\nSuccessfully built docopt\nInstalling collected packages: docopt, num2words\nSuccessfully installed docopt-0.6.2 num2words-0.5.9\n",
          "name": "stdout"
        }
      ]
    },
    {
      "metadata": {
        "trusted": true
      },
      "cell_type": "code",
      "source": "import num2words\nhelp(num2words)",
      "execution_count": 3,
      "outputs": [
        {
          "output_type": "stream",
          "text": "Help on package num2words:\n\nNAME\n    num2words\n\nDESCRIPTION\n    # -*- coding: utf-8 -*-\n    # Copyright (c) 2003, Taro Ogawa.  All Rights Reserved.\n    # Copyright (c) 2013, Savoir-faire Linux inc.  All Rights Reserved.\n\nPACKAGE CONTENTS\n    base\n    compat\n    currency\n    lang_AR\n    lang_CZ\n    lang_DE\n    lang_DK\n    lang_EN\n    lang_EN_IN\n    lang_ES\n    lang_ES_CO\n    lang_ES_VE\n    lang_EU\n    lang_FI\n    lang_FR\n    lang_FR_BE\n    lang_FR_CH\n    lang_FR_DZ\n    lang_HE\n    lang_ID\n    lang_IT\n    lang_JA\n    lang_KO\n    lang_LT\n    lang_LV\n    lang_NL\n    lang_NO\n    lang_PL\n    lang_PT\n    lang_PT_BR\n    lang_RO\n    lang_RU\n    lang_SL\n    lang_SR\n    lang_TH\n    lang_TR\n    lang_UK\n    lang_VI\n    lang_VN\n    utils\n\nFUNCTIONS\n    num2words(number, ordinal=False, lang='en', to='cardinal', **kwargs)\n\nDATA\n    CONVERTER_CLASSES = {'ar': <num2words.lang_AR.Num2Word_AR object>, 'cz...\n    CONVERTES_TYPES = ['cardinal', 'ordinal', 'ordinal_num', 'year', 'curr...\n    unicode_literals = _Feature((2, 6, 0, 'alpha', 2), (3, 0, 0, 'alpha', ...\n\nFILE\n    /home/nbuser/anaconda3_501/lib/python3.6/site-packages/num2words/__init__.py\n\n\n",
          "name": "stdout"
        }
      ]
    },
    {
      "metadata": {
        "trusted": true
      },
      "cell_type": "code",
      "source": "number_list = [-1, 1, 500, 10**6, 9999.9999]\nwords_list = map(num2words.num2words, number_list)\nfor number, word in zip(number_list, words_list):\n    print(number, \":\", word)",
      "execution_count": 12,
      "outputs": [
        {
          "output_type": "stream",
          "text": "-1 : minus one\n1 : one\n500 : five hundred\n1000000 : one million\n9999.9999 : nine thousand, nine hundred and ninety-nine point nine nine nine nine\n",
          "name": "stdout"
        }
      ]
    },
    {
      "metadata": {},
      "cell_type": "markdown",
      "source": "filter(function, iterable)\n\nConstruct an iterator from those elements of iterable for which function returns true."
    },
    {
      "metadata": {
        "trusted": true
      },
      "cell_type": "code",
      "source": "# collect all even numbers.\n\nall_numbers = range(50)\ndef is_even(number):\n    return number % 2 == 0\n\neven_numbers = filter(is_even, all_numbers)\nprint(type(even_numbers))\nprint(even_numbers)\nprint(list(even_numbers))",
      "execution_count": 17,
      "outputs": [
        {
          "output_type": "stream",
          "text": "<class 'filter'>\n<filter object at 0x7fedd47af2b0>\n[0, 2, 4, 6, 8, 10, 12, 14, 16, 18, 20, 22, 24, 26, 28, 30, 32, 34, 36, 38, 40, 42, 44, 46, 48]\n",
          "name": "stdout"
        }
      ]
    },
    {
      "metadata": {},
      "cell_type": "markdown",
      "source": "functools.reduce(function, iterable[, initializer])\n\nreduce is no more build in function in Python 3. Instead it comes from [functools](https://docs.python.org/3/library/functools.html#functools.reduce) package.\n\nApply function of two arguments cumulatively to the items of sequence, from left to right, so as to reduce the sequence to a single value."
    },
    {
      "metadata": {
        "trusted": true
      },
      "cell_type": "code",
      "source": "# Calculate sum of 1,2,...100\n# You can use sum(range(101)) to get the result too.\nimport functools\ntotal = functools.reduce(lambda x, y: x+y, range(101))\nprint(total)\nassert total == sum(range(101))",
      "execution_count": 28,
      "outputs": [
        {
          "output_type": "stream",
          "text": "5050\n",
          "name": "stdout"
        }
      ]
    }
  ],
  "metadata": {
    "kernelspec": {
      "name": "python36",
      "display_name": "Python 3.6",
      "language": "python"
    },
    "language_info": {
      "mimetype": "text/x-python",
      "nbconvert_exporter": "python",
      "name": "python",
      "pygments_lexer": "ipython3",
      "version": "3.6.6",
      "file_extension": ".py",
      "codemirror_mode": {
        "version": 3,
        "name": "ipython"
      }
    }
  },
  "nbformat": 4,
  "nbformat_minor": 1
}