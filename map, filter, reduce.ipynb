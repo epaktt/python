{
 "cells": [
  {
   "cell_type": "markdown",
   "metadata": {},
   "source": [
    "[Python build in functions](https://docs.python.org/3.7/library/functions.html#filter)"
   ]
  },
  {
   "cell_type": "markdown",
   "metadata": {},
   "source": [
    "map(function, iterable, ...)\n",
    "\n",
    "Return an iterator that applies function to every item of iterable, yielding the results."
   ]
  },
  {
   "cell_type": "code",
   "execution_count": 1,
   "metadata": {},
   "outputs": [
    {
     "name": "stdout",
     "output_type": "stream",
     "text": [
      "Collecting num2words\n",
      "\u001b[?25l  Downloading https://files.pythonhosted.org/packages/97/59/daea20448b3bf3cc07694f393a2a9d06439e4c9a96f83734d9d2c5231703/num2words-0.5.9-py3-none-any.whl (99kB)\n",
      "\u001b[K    100% |████████████████████████████████| 102kB 1.4MB/s a 0:00:01\n",
      "\u001b[?25hCollecting docopt>=0.6.2 (from num2words)\n",
      "  Downloading https://files.pythonhosted.org/packages/a2/55/8f8cab2afd404cf578136ef2cc5dfb50baa1761b68c9da1fb1e4eed343c9/docopt-0.6.2.tar.gz\n",
      "Building wheels for collected packages: docopt\n",
      "  Running setup.py bdist_wheel for docopt ... \u001b[?25ldone\n",
      "\u001b[?25h  Stored in directory: /home/nbuser/.cache/pip/wheels/9b/04/dd/7daf4150b6d9b12949298737de9431a324d4b797ffd63f526e\n",
      "Successfully built docopt\n",
      "Installing collected packages: docopt, num2words\n",
      "Successfully installed docopt-0.6.2 num2words-0.5.9\n"
     ]
    }
   ],
   "source": [
    "# Converting a list of numbers to a list of words\n",
    "#numer_list = range(10)\n",
    "# Need to install a pip package, num2words.\n",
    "!pip install num2words"
   ]
  },
  {
   "cell_type": "code",
   "execution_count": 2,
   "metadata": {},
   "outputs": [
    {
     "name": "stdout",
     "output_type": "stream",
     "text": [
      "Help on package num2words:\n",
      "\n",
      "NAME\n",
      "    num2words\n",
      "\n",
      "DESCRIPTION\n",
      "    # -*- coding: utf-8 -*-\n",
      "    # Copyright (c) 2003, Taro Ogawa.  All Rights Reserved.\n",
      "    # Copyright (c) 2013, Savoir-faire Linux inc.  All Rights Reserved.\n",
      "\n",
      "PACKAGE CONTENTS\n",
      "    base\n",
      "    compat\n",
      "    currency\n",
      "    lang_AR\n",
      "    lang_CZ\n",
      "    lang_DE\n",
      "    lang_DK\n",
      "    lang_EN\n",
      "    lang_EN_IN\n",
      "    lang_ES\n",
      "    lang_ES_CO\n",
      "    lang_ES_VE\n",
      "    lang_EU\n",
      "    lang_FI\n",
      "    lang_FR\n",
      "    lang_FR_BE\n",
      "    lang_FR_CH\n",
      "    lang_FR_DZ\n",
      "    lang_HE\n",
      "    lang_ID\n",
      "    lang_IT\n",
      "    lang_JA\n",
      "    lang_KO\n",
      "    lang_LT\n",
      "    lang_LV\n",
      "    lang_NL\n",
      "    lang_NO\n",
      "    lang_PL\n",
      "    lang_PT\n",
      "    lang_PT_BR\n",
      "    lang_RO\n",
      "    lang_RU\n",
      "    lang_SL\n",
      "    lang_SR\n",
      "    lang_TH\n",
      "    lang_TR\n",
      "    lang_UK\n",
      "    lang_VI\n",
      "    lang_VN\n",
      "    utils\n",
      "\n",
      "FUNCTIONS\n",
      "    num2words(number, ordinal=False, lang='en', to='cardinal', **kwargs)\n",
      "\n",
      "DATA\n",
      "    CONVERTER_CLASSES = {'ar': <num2words.lang_AR.Num2Word_AR object>, 'cz...\n",
      "    CONVERTES_TYPES = ['cardinal', 'ordinal', 'ordinal_num', 'year', 'curr...\n",
      "    unicode_literals = _Feature((2, 6, 0, 'alpha', 2), (3, 0, 0, 'alpha', ...\n",
      "\n",
      "FILE\n",
      "    e:\\pycharmprojects\\python301_pycharm\\venv\\lib\\site-packages\\num2words\\__init__.py\n",
      "\n",
      "\n"
     ]
    }
   ],
   "source": [
    "import num2words\n",
    "help(num2words)"
   ]
  },
  {
   "cell_type": "code",
   "execution_count": 4,
   "metadata": {},
   "outputs": [
    {
     "name": "stdout",
     "output_type": "stream",
     "text": [
      "nine thousand, nine hundred and ninety-nine\n"
     ]
    }
   ],
   "source": [
    "import num2words\n",
    "result = num2words.num2words(9999)\n",
    "print(result)"
   ]
  },
  {
   "cell_type": "code",
   "execution_count": 8,
   "metadata": {},
   "outputs": [
    {
     "name": "stdout",
     "output_type": "stream",
     "text": [
      "-1 : minus one\n",
      "1 : one\n",
      "500 : five hundred\n",
      "1000000 : one million\n",
      "9999.9999 : nine thousand, nine hundred and ninety-nine point nine nine nine nine\n"
     ]
    }
   ],
   "source": [
    "number_list = [-1, 1, 500, 10**6, 9999.9999]\n",
    "words_list = map(num2words.num2words, number_list)\n",
    "words_lsit = [num2words.num2words[number] for number in number_list]\n",
    "#print(list(words_list))\n",
    "\n",
    "for number, word in zip(number_list, words_list):\n",
    "    print(number, \":\", word)"
   ]
  },
  {
   "cell_type": "markdown",
   "metadata": {},
   "source": [
    "filter(function, iterable)\n",
    "\n",
    "Construct an iterator from those elements of iterable for which function returns true."
   ]
  },
  {
   "cell_type": "code",
   "execution_count": 4,
   "metadata": {},
   "outputs": [
    {
     "name": "stdout",
     "output_type": "stream",
     "text": [
      "<filter object at 0x05CF09F0>\n",
      "[]\n",
      "<filter object at 0x05CF09F0>\n",
      "[]\n",
      "result is still here [0, 2, 4, 6, 8, 10, 12, 14, 16, 18, 20, 22, 24, 26, 28, 30, 32, 34, 36, 38, 40, 42, 44, 46, 48]\n"
     ]
    }
   ],
   "source": [
    "# collect all even numbers.\n",
    "\n",
    "all_numbers = range(50)\n",
    "def is_even(number):\n",
    "    return number % 2 == 0\n",
    "\n",
    "even_numbers = filter(is_even, all_numbers)\n",
    "\n",
    "\n",
    "print(even_numbers)\n",
    "results = list(even_numbers)\n",
    "print(list(even_numbers))\n",
    "print(even_numbers)\n",
    "print(list(even_numbers))\n",
    "print(f'result is still here {results}')\n"
   ]
  },
  {
   "cell_type": "code",
   "execution_count": 12,
   "metadata": {},
   "outputs": [
    {
     "name": "stdout",
     "output_type": "stream",
     "text": [
      "Square root of 2 is 1.4142135623730951\n",
      "Square root of 4 is 2.0\n",
      "Square root of 6 is 2.449489742783178\n",
      "Square root of 8 is 2.8284271247461903\n",
      "Square root of 10 is 3.1622776601683795\n",
      "Square root of 12 is 3.4641016151377544\n",
      "Square root of 14 is 3.7416573867739413\n",
      "Square root of 16 is 4.0\n",
      "Square root of 18 is 4.242640687119285\n",
      "Square root of 20 is 4.47213595499958\n",
      "Square root of 22 is 4.69041575982343\n",
      "Square root of 24 is 4.898979485566356\n",
      "Square root of 26 is 5.0990195135927845\n",
      "Square root of 28 is 5.291502622129181\n",
      "Square root of 30 is 5.477225575051661\n",
      "Square root of 32 is 5.656854249492381\n",
      "Square root of 34 is 5.830951894845301\n",
      "Square root of 36 is 6.0\n",
      "Square root of 38 is 6.164414002968976\n",
      "Square root of 40 is 6.324555320336759\n",
      "Square root of 42 is 6.48074069840786\n",
      "Square root of 44 is 6.6332495807108\n",
      "Square root of 46 is 6.782329983125268\n",
      "Square root of 48 is 6.928203230275509\n",
      "Square root of 50 is 7.0710678118654755\n",
      "Square root of 52 is 7.211102550927978\n",
      "Square root of 54 is 7.3484692283495345\n",
      "Square root of 56 is 7.483314773547883\n",
      "Square root of 58 is 7.615773105863909\n",
      "Square root of 60 is 7.745966692414834\n",
      "Square root of 62 is 7.874007874011811\n",
      "Square root of 64 is 8.0\n",
      "Square root of 66 is 8.12403840463596\n",
      "Square root of 68 is 8.246211251235321\n",
      "Square root of 70 is 8.366600265340756\n",
      "Square root of 72 is 8.48528137423857\n",
      "Square root of 74 is 8.602325267042627\n",
      "Square root of 76 is 8.717797887081348\n",
      "Square root of 78 is 8.831760866327848\n",
      "Square root of 80 is 8.94427190999916\n",
      "Square root of 82 is 9.055385138137417\n",
      "Square root of 84 is 9.16515138991168\n",
      "Square root of 86 is 9.273618495495704\n",
      "Square root of 88 is 9.38083151964686\n",
      "Square root of 90 is 9.486832980505138\n",
      "Square root of 92 is 9.591663046625438\n",
      "Square root of 94 is 9.695359714832659\n",
      "Square root of 96 is 9.797958971132712\n",
      "Square root of 98 is 9.899494936611665\n",
      "Square root of 100 is 10.0\n"
     ]
    }
   ],
   "source": [
    "# Let's calculate the sqrt for even numbers for 1....100\n",
    "import math\n",
    "# one way\n",
    "result = map(math.sqrt, filter(lambda number: number % 2 == 0, range(1, 101)))\n",
    "\n",
    "# another way\n",
    "original_numbers_iter = range(1, 101)\n",
    "even_numbers_iter = filter(lambda number: number % 2 == 0, original_numbers_iter)\n",
    "result_iter = map(math.sqrt, even_numbers_iter)\n",
    "\n",
    "# list comprehension way\n",
    "result = [math.sqrt(number) for number in range(1, 101) if number % 2 == 0]\n",
    "\n",
    "# traditional way\n",
    "result_numbers = []\n",
    "for number in range(1, 101):\n",
    "    if number % 2 == 0:\n",
    "        result_numbers.append(math.sqrt(number))\n",
    "\n",
    "for number in result:\n",
    "    original_number = round(number ** 2)\n",
    "    print(f'Square root of {original_number} is {number}')"
   ]
  },
  {
   "cell_type": "markdown",
   "metadata": {},
   "source": [
    "functools.reduce(function, iterable[, initializer])\n",
    "\n",
    "reduce is no more build in function in Python 3. Instead it comes from [functools](https://docs.python.org/3/library/functools.html#functools.reduce) package.\n",
    "\n",
    "Apply function of two arguments cumulatively to the items of sequence, from left to right, so as to reduce the sequence to *a single value*."
   ]
  },
  {
   "cell_type": "code",
   "execution_count": 19,
   "metadata": {},
   "outputs": [
    {
     "name": "stdout",
     "output_type": "stream",
     "text": [
      "5050\n",
      "the average is 50.5\n",
      "the multiply result is 93326215443944152681699238856266700490715968264381621468592963895217599993229915608941463976156518286253697920827223758251185210916864000000000000000000000000\n"
     ]
    },
    {
     "data": {
      "text/plain": [
       "'9.33E+157'"
      ]
     },
     "execution_count": 19,
     "metadata": {},
     "output_type": "execute_result"
    }
   ],
   "source": [
    "# Calculate sum of 1,2,...100\n",
    "# You can use sum(range(101)) to get the result too.\n",
    "import functools\n",
    "import num2words\n",
    "total = functools.reduce(lambda x, y: x + y, range(1, 101))\n",
    "print(total)\n",
    "assert total == sum(range(1, 101))\n",
    "average = total / len(range(1, 101))\n",
    "print(f'the average is {average}')\n",
    "\n",
    "multi_result = functools.reduce(lambda x, y: x*y, range(1, 101))\n",
    "print(f'the multiply result is {multi_result}')\n",
    "\n",
    "# print(num2words.num2words(multi_result))\n",
    "\n",
    "# convert it to scientific notation.\n",
    "from decimal import Decimal\n",
    "\n",
    "'%.2E' % Decimal(multi_result)"
   ]
  },
  {
   "cell_type": "code",
   "execution_count": 21,
   "metadata": {},
   "outputs": [],
   "source": [
    "number_list = [0.2, 1, 2, -5, 10, 4.123]\n",
    "\n",
    "max_number = functools.reduce(lambda x, y: x if x > y else y, number_list)\n",
    "assert max_number == max(number_list)"
   ]
  },
  {
   "cell_type": "code",
   "execution_count": 33,
   "metadata": {},
   "outputs": [
    {
     "name": "stdout",
     "output_type": "stream",
     "text": [
      "The word has more chars is \"positional\"\n"
     ]
    }
   ],
   "source": [
    "text = \"\"\"\n",
    "Return the smallest item in an iterable or the smallest of two or more arguments.\n",
    "\n",
    "If one positional argument is provided, it should be an iterable. The smallest item in the iterable is returned. If two or more positional arguments are provided, the smallest of the positional arguments is returned.\n",
    "\"\"\"\n",
    "words = text.split()\n",
    "# print(sorted(words, reverse=True))\n",
    "max_word = functools.reduce(lambda x, y: x if x > y else y, words)\n",
    "# print(max_word)\n",
    "\n",
    "# Check which word has more chars.\n",
    "lengthy_word = functools.reduce(lambda x, y: x if len(x) > len(y) else y, words)\n",
    "print(f'The word has more chars is \"{lengthy_word}\"')"
   ]
  }
 ],
 "metadata": {
  "kernelspec": {
   "display_name": "Python 3",
   "language": "python",
   "name": "python3"
  },
  "language_info": {
   "codemirror_mode": {
    "name": "ipython",
    "version": 3
   },
   "file_extension": ".py",
   "mimetype": "text/x-python",
   "name": "python",
   "nbconvert_exporter": "python",
   "pygments_lexer": "ipython3",
   "version": "3.7.2"
  }
 },
 "nbformat": 4,
 "nbformat_minor": 1
}
