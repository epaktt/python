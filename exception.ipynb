{
 "cells": [
  {
   "cell_type": "code",
   "execution_count": 2,
   "metadata": {},
   "outputs": [
    {
     "name": "stdout",
     "output_type": "stream",
     "text": [
      "division by zero\n"
     ]
    }
   ],
   "source": [
    "# Template.\n",
    "a = 0\n",
    "b = 10\n",
    "\n",
    "import http\n",
    "import logging\n",
    "# ......\n",
    "try:\n",
    "    result = http.request(url)\n",
    "except TypeError as e:\n",
    "    logging.error(e)\n",
    "    print(e)\n",
    "except Exception as e:\n",
    "    logging.warning(e)\n",
    "    print(e)\n",
    "\n",
    "if a != 0:\n",
    "    c = b/a\n",
    "...\n",
    "    "
   ]
  },
  {
   "cell_type": "code",
   "execution_count": 4,
   "metadata": {},
   "outputs": [
    {
     "data": {
      "text/plain": [
       "1.0"
      ]
     },
     "execution_count": 4,
     "metadata": {},
     "output_type": "execute_result"
    }
   ],
   "source": [
    "class MyException(Exception):\n",
    "    pass\n",
    "\n",
    "def my_func(param):\n",
    "    \"\"\"This is an example function.\n",
    "    \n",
    "    Args:\n",
    "      param: A integer.\n",
    "      \n",
    "    Returns:\n",
    "      A float value.\n",
    "    \n",
    "    Raises:\n",
    "      MyException when param is zero.\n",
    "    \"\"\"\n",
    "    if param == 0:\n",
    "        raise MyException('The param cannot be zero.')\n",
    "    return 10/param\n",
    "\n",
    "my_func(10)"
   ]
  },
  {
   "cell_type": "code",
   "execution_count": 7,
   "metadata": {},
   "outputs": [
    {
     "name": "stdout",
     "output_type": "stream",
     "text": [
      "The param cannot be zero.\n"
     ]
    }
   ],
   "source": [
    "a = 0 # pretend a is from network request response.\n",
    "try:\n",
    "    my_func(a)\n",
    "except MyException as e:\n",
    "    print(e)"
   ]
  },
  {
   "cell_type": "code",
   "execution_count": 10,
   "metadata": {},
   "outputs": [
    {
     "name": "stdout",
     "output_type": "stream",
     "text": [
      "[1, 10]\n"
     ]
    }
   ],
   "source": [
    "number_list = [1, 10, 'one', '10.1']\n",
    "result_list = []\n",
    "\n",
    "for number in number_list:\n",
    "    try:\n",
    "        result_list.append(int(number))\n",
    "    except ValueError:\n",
    "        continue\n",
    "\n",
    "print(result_list)"
   ]
  }
 ],
 "metadata": {
  "kernelspec": {
   "display_name": "Python 3",
   "language": "python",
   "name": "python3"
  },
  "language_info": {
   "codemirror_mode": {
    "name": "ipython",
    "version": 3
   },
   "file_extension": ".py",
   "mimetype": "text/x-python",
   "name": "python",
   "nbconvert_exporter": "python",
   "pygments_lexer": "ipython3",
   "version": "3.7.2"
  }
 },
 "nbformat": 4,
 "nbformat_minor": 2
}
