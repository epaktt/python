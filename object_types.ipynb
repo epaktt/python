{
 "cells": [
  {
   "cell_type": "code",
   "execution_count": 1,
   "metadata": {},
   "outputs": [
    {
     "data": {
      "text/plain": [
       "int"
      ]
     },
     "execution_count": 1,
     "metadata": {},
     "output_type": "execute_result"
    }
   ],
   "source": [
    "type(10)"
   ]
  },
  {
   "cell_type": "code",
   "execution_count": 1,
   "metadata": {},
   "outputs": [
    {
     "data": {
      "text/plain": [
       "bool"
      ]
     },
     "execution_count": 1,
     "metadata": {},
     "output_type": "execute_result"
    }
   ],
   "source": [
    "type(True)"
   ]
  },
  {
   "cell_type": "code",
   "execution_count": 2,
   "metadata": {},
   "outputs": [
    {
     "data": {
      "text/plain": [
       "float"
      ]
     },
     "execution_count": 2,
     "metadata": {},
     "output_type": "execute_result"
    }
   ],
   "source": [
    "type(10.0)"
   ]
  },
  {
   "cell_type": "code",
   "execution_count": 3,
   "metadata": {},
   "outputs": [
    {
     "data": {
      "text/plain": [
       "str"
      ]
     },
     "execution_count": 3,
     "metadata": {},
     "output_type": "execute_result"
    }
   ],
   "source": [
    "type(\"hello world\")"
   ]
  },
  {
   "cell_type": "code",
   "execution_count": 1,
   "metadata": {},
   "outputs": [
    {
     "ename": "SyntaxError",
     "evalue": "invalid syntax (<ipython-input-1-01edcd578642>, line 4)",
     "output_type": "error",
     "traceback": [
      "\u001b[0;36m  File \u001b[0;32m\"<ipython-input-1-01edcd578642>\"\u001b[0;36m, line \u001b[0;32m4\u001b[0m\n\u001b[0;31m    string_1 = 'This string contains a single quote (') character.'\u001b[0m\n\u001b[0m                                                      ^\u001b[0m\n\u001b[0;31mSyntaxError\u001b[0m\u001b[0;31m:\u001b[0m invalid syntax\n"
     ]
    }
   ],
   "source": [
    "# Escape Sequences in Strings\n",
    "# For a string\n",
    "# 'This string contains a single quote (') character.'\n",
    "string_1 = 'This string contains a single quote (') character.'"
   ]
  },
  {
   "cell_type": "code",
   "execution_count": null,
   "metadata": {},
   "outputs": [],
   "source": [
    "string_1 = \"This string contains a single quote (') character.\"\n",
    "string_2 = 'This string contains a single quote (\\') character.'"
   ]
  },
  {
   "cell_type": "code",
   "execution_count": 34,
   "metadata": {},
   "outputs": [
    {
     "name": "stdout",
     "output_type": "stream",
     "text": [
      "abcd\n"
     ]
    }
   ],
   "source": [
    "string_3 = 'a\\\n",
    "b\\\n",
    "c\\\n",
    "d'\n",
    "\n",
    "print(string_3)"
   ]
  },
  {
   "cell_type": "code",
   "execution_count": 2,
   "metadata": {},
   "outputs": [
    {
     "name": "stdout",
     "output_type": "stream",
     "text": [
      "hello \n",
      "\n",
      "\n",
      "\n",
      "\n",
      "\n",
      "world\n",
      "our first program is always \"hello world\" \n"
     ]
    }
   ],
   "source": [
    "string_4 = \"\"\"hello \n",
    "\n",
    "\n",
    "\n",
    "\n",
    "\n",
    "world\"\"\"\n",
    "print(string_4)\n",
    "\n",
    "string_5 = \"\"\"our first program is always \"hello world\" \"\"\"\n",
    "print(string_5)"
   ]
  },
  {
   "cell_type": "code",
   "execution_count": null,
   "metadata": {},
   "outputs": [],
   "source": [
    "list_example1 = [1,2,3,4,5]"
   ]
  },
  {
   "cell_type": "code",
   "execution_count": null,
   "metadata": {},
   "outputs": [],
   "source": [
    "list_example2 = ['a', 'b', 'c', 'abcdefg']"
   ]
  },
  {
   "cell_type": "code",
   "execution_count": 4,
   "metadata": {},
   "outputs": [],
   "source": [
    "list_example3 = [1, 2, 'a', 10.10, None]"
   ]
  },
  {
   "cell_type": "code",
   "execution_count": 9,
   "metadata": {},
   "outputs": [],
   "source": [
    "dict_example = {'one': 1, 'two': 2}"
   ]
  },
  {
   "cell_type": "code",
   "execution_count": 10,
   "metadata": {},
   "outputs": [
    {
     "name": "stdout",
     "output_type": "stream",
     "text": [
      "1\n"
     ]
    }
   ],
   "source": [
    "print(dict_example['one'])"
   ]
  },
  {
   "cell_type": "code",
   "execution_count": 11,
   "metadata": {},
   "outputs": [
    {
     "name": "stdout",
     "output_type": "stream",
     "text": [
      "{'one': 1, 'two': 2, 'three': 3}\n"
     ]
    }
   ],
   "source": [
    "dict_example['three'] = 3\n",
    "print(dict_example)"
   ]
  },
  {
   "cell_type": "code",
   "execution_count": 4,
   "metadata": {},
   "outputs": [
    {
     "name": "stdout",
     "output_type": "stream",
     "text": [
      "4\n"
     ]
    }
   ],
   "source": [
    "tuple_example = (1, 2, 3, 4)\n",
    "print(tuple_example[3])"
   ]
  },
  {
   "cell_type": "code",
   "execution_count": 24,
   "metadata": {},
   "outputs": [
    {
     "name": "stdout",
     "output_type": "stream",
     "text": [
      "{1: ['square of 1', 'square of one'], 4: ['square of 2']}\n"
     ]
    }
   ],
   "source": [
    "#tuple_example[3] = 0\n",
    "a = set([1,2, 3, 1, 2, 3])\n",
    "a_dict = {}\n",
    "for value in list(a):\n",
    "    a_dict['square of {}'.format(value)] = value**2\n",
    "    \n",
    "\n",
    "a_dict = {'square of 1': 1, 'square of 2': 4, 'square of one': 1}  # this is comment.\n",
    "\n",
    "# we'd like to find keys by value.\n",
    "# and print \n",
    "# value1: key1, key2\n",
    "# value2: key1, key2...\n",
    "reverse_a = dict()\n",
    "\n",
    "for k, v in a_dict.items():\n",
    "    existing_value = reverse_a.get(v, [])\n",
    "    existing_value.append(k)\n",
    "    reverse_a[v] = existing_value\n",
    "    \n",
    "print(reverse_a)\n"
   ]
  },
  {
   "cell_type": "code",
   "execution_count": 21,
   "metadata": {},
   "outputs": [
    {
     "data": {
      "text/plain": [
       "485696759010151909"
      ]
     },
     "execution_count": 21,
     "metadata": {},
     "output_type": "execute_result"
    }
   ],
   "source": [
    "hash(tuple_example)"
   ]
  },
  {
   "cell_type": "code",
   "execution_count": 24,
   "metadata": {},
   "outputs": [
    {
     "name": "stdout",
     "output_type": "stream",
     "text": [
      "{'two', 1, 2, 3, 'one', 'three'}\n"
     ]
    }
   ],
   "source": [
    "set_1 = {1, 2, 3, 'one', 'two', 'three', 1, 2, 3}\n",
    "print(set_example)"
   ]
  },
  {
   "cell_type": "code",
   "execution_count": 27,
   "metadata": {},
   "outputs": [
    {
     "name": "stdout",
     "output_type": "stream",
     "text": [
      "{'two', 2, 1, 'one', 'three'}\n"
     ]
    }
   ],
   "source": [
    "set_2 = {1, 'one', 2, 'two', 'three', 10.1, -2, -3}\n",
    "common_elements = set_1 & set_2\n",
    "print(common_elements)"
   ]
  },
  {
   "cell_type": "code",
   "execution_count": 32,
   "metadata": {},
   "outputs": [
    {
     "name": "stdout",
     "output_type": "stream",
     "text": [
      "(4+6j)\n",
      "(-5+10j)\n"
     ]
    }
   ],
   "source": [
    "# Complex numbers\n",
    "complex_1 = 1 + 2j\n",
    "complex_2 = 3 + 4j\n",
    "\n",
    "complex_3 = complex_1 + complex_2\n",
    "print(complex_3)\n",
    "\n",
    "complex_4 = complex_1 * complex_2\n",
    "print(complex_4)"
   ]
  },
  {
   "cell_type": "markdown",
   "metadata": {},
   "source": [
    "[Python build in functions](https://www.programiz.com/python-programming/methods)\n",
    "Dictionary functions\n"
   ]
  }
 ],
 "metadata": {
  "kernelspec": {
   "display_name": "Python 3",
   "language": "python",
   "name": "python3"
  },
  "language_info": {
   "codemirror_mode": {
    "name": "ipython",
    "version": 3
   },
   "file_extension": ".py",
   "mimetype": "text/x-python",
   "name": "python",
   "nbconvert_exporter": "python",
   "pygments_lexer": "ipython3",
   "version": "3.7.2"
  }
 },
 "nbformat": 4,
 "nbformat_minor": 2
}
