{
 "cells": [
  {
   "cell_type": "code",
   "execution_count": 2,
   "metadata": {},
   "outputs": [
    {
     "name": "stdout",
     "output_type": "stream",
     "text": [
      "files.data  files.ipynb  object_types.ipynb  README.md\r\n"
     ]
    }
   ],
   "source": [
    "!dir"
   ]
  },
  {
   "cell_type": "code",
   "execution_count": 3,
   "metadata": {},
   "outputs": [
    {
     "name": "stdout",
     "output_type": "stream",
     "text": [
      "line one\n",
      "line two\n",
      "line three\n",
      "line four\n",
      "line five\n"
     ]
    }
   ],
   "source": [
    "handler = open('files.data')\n",
    "content = handler.read()\n",
    "print(content)"
   ]
  },
  {
   "cell_type": "markdown",
   "metadata": {},
   "source": [
    "[Reading and Writing files](https://docs.python.org/3.7/tutorial/inputoutput.html#reading-and-writing-files)"
   ]
  },
  {
   "cell_type": "code",
   "execution_count": 2,
   "metadata": {},
   "outputs": [
    {
     "name": "stdout",
     "output_type": "stream",
     "text": [
      "['line one\\n', 'line two\\n', 'line three\\n', 'line four\\n', 'line five']\n"
     ]
    }
   ],
   "source": [
    "# To get all file content into a list\n",
    "handler = open('files.data')\n",
    "all_lines = handler.readlines()\n",
    "print(all_lines)"
   ]
  },
  {
   "cell_type": "code",
   "execution_count": 19,
   "metadata": {},
   "outputs": [
    {
     "data": {
      "text/plain": [
       "['line one', 'line two', 'line three', 'line four', 'line five']"
      ]
     },
     "execution_count": 19,
     "metadata": {},
     "output_type": "execute_result"
    }
   ],
   "source": [
    "# To get rid of the trailing line break,\n",
    "# str.strip()\n",
    "\n",
    "#for i in range(len(all_lines)):\n",
    "#    all_lines[i] = all_lines[i].strip()\n",
    "\n",
    "handler = open('files.data')\n",
    "all_lines = handler.readlines()\n",
    "\n",
    "#print('before', all_lines)\n",
    "\n",
    "#print(list(enumerate(all_lines)))\n",
    "\n",
    "#for index, line in enumerate(all_lines):\n",
    "#    all_lines[index] = line.strip()\n",
    "\n",
    "#for line in all_lines:\n",
    "#    line = line.strip()\n",
    "    \n",
    "# print('after', all_lines)\n",
    "\n",
    "def strip_it(x):\n",
    "    return x.strip()\n",
    "\n",
    "# lambda x: x.strip()\n",
    "\n",
    "all_lines = map(strip_it, all_lines)\n",
    "list(all_lines)"
   ]
  },
  {
   "cell_type": "code",
   "execution_count": 20,
   "metadata": {},
   "outputs": [
    {
     "name": "stdout",
     "output_type": "stream",
     "text": [
      "['_CHUNK_SIZE', '__class__', '__del__', '__delattr__', '__dict__', '__dir__', '__doc__', '__enter__', '__eq__', '__exit__', '__format__', '__ge__', '__getattribute__', '__getstate__', '__gt__', '__hash__', '__init__', '__init_subclass__', '__iter__', '__le__', '__lt__', '__ne__', '__new__', '__next__', '__reduce__', '__reduce_ex__', '__repr__', '__setattr__', '__sizeof__', '__str__', '__subclasshook__', '_checkClosed', '_checkReadable', '_checkSeekable', '_checkWritable', '_finalizing', 'buffer', 'close', 'closed', 'detach', 'encoding', 'errors', 'fileno', 'flush', 'isatty', 'line_buffering', 'mode', 'name', 'newlines', 'read', 'readable', 'readline', 'readlines', 'reconfigure', 'seek', 'seekable', 'tell', 'truncate', 'writable', 'write', 'write_through', 'writelines']\n",
      "['line one\\n', 'line two\\n', 'line three\\n', 'line four\\n', 'line five']\n"
     ]
    }
   ],
   "source": [
    "# To get all file content into a list - use list()\n",
    "handler = open('files.data')\n",
    "all_lines = list(handler)\n",
    "print(dir(handler))\n",
    "print(all_lines)"
   ]
  },
  {
   "cell_type": "code",
   "execution_count": 9,
   "metadata": {},
   "outputs": [
    {
     "name": "stdout",
     "output_type": "stream",
     "text": [
      "line one\n",
      "\n",
      "line two\n",
      "\n",
      "line three\n",
      "\n",
      "line four\n",
      "\n",
      "line five\n"
     ]
    }
   ],
   "source": [
    "# To iterate all file content line by line\n",
    "# new line character is added in the end.\n",
    "handler = open('files.data')\n",
    "for line in handler:\n",
    "    print(line)"
   ]
  },
  {
   "cell_type": "code",
   "execution_count": 17,
   "metadata": {},
   "outputs": [
    {
     "name": "stdout",
     "output_type": "stream",
     "text": [
      "line one\n",
      "line two\n",
      "line three\n",
      "line four\n",
      "line five\n"
     ]
    }
   ],
   "source": [
    "# To iterate all file content line by line - improved.\n",
    "with open('files.data') as handler:\n",
    "    for line in handler:\n",
    "        print(line.strip())\n"
   ]
  },
  {
   "cell_type": "code",
   "execution_count": 24,
   "metadata": {},
   "outputs": [
    {
     "name": "stdout",
     "output_type": "stream",
     "text": [
      "['1\\n', 'simple\\n', 'list\\n']\n"
     ]
    }
   ],
   "source": [
    "file_path = 'temp.txt'\n",
    "a_list = [1, 'simple', 'list']\n",
    "a_list_string = map(str, a_list)\n",
    "a_list_string = map(lambda x: x + '\\n', a_list_string)\n",
    "\n",
    "with open(file_path, mode='w') as handler:\n",
    "    handler.writelines(a_list_string)\n",
    "    \n",
    "with open(file_path) as handler:\n",
    "    print(list(handler))\n",
    "\n"
   ]
  },
  {
   "cell_type": "code",
   "execution_count": 26,
   "metadata": {},
   "outputs": [
    {
     "name": "stdout",
     "output_type": "stream",
     "text": [
      "[1, \"simple\", \"list\"]\n",
      "<class 'str'>\n"
     ]
    },
    {
     "data": {
      "text/plain": [
       "True"
      ]
     },
     "execution_count": 26,
     "metadata": {},
     "output_type": "execute_result"
    }
   ],
   "source": [
    "# Saving structured data with json.dumps() -> dump string.\n",
    "import json\n",
    "a_list = [1, 'simple', 'list']\n",
    "a_string = json.dumps(a_list)\n",
    "\n",
    "print(a_string)\n",
    "print(type(a_string))\n",
    "a_string == '[1, \"simple\", \"list\"]'"
   ]
  },
  {
   "cell_type": "code",
   "execution_count": 30,
   "metadata": {},
   "outputs": [
    {
     "name": "stdout",
     "output_type": "stream",
     "text": [
      "what does it look like in the file?\n",
      "[1, \"simple\", \"list\"]\n",
      "Now read it back.\n",
      "<class 'list'>\n",
      "[1, 'simple', 'list']\n"
     ]
    }
   ],
   "source": [
    "# Use json.dump() to serialize a object to a text file\n",
    "handler = open(file='temp.data', mode='w')\n",
    "a_list = [1, 'simple', 'list']\n",
    "json.dump(a_list, handler)\n",
    "handler.close()\n",
    "\n",
    "## make sure you backed up the data before write it back.\n",
    "with open(file='temp.data', mode='w') as handler:\n",
    "    json.dump(a_list, handler)\n",
    "\n",
    "print('what does it look like in the file?')\n",
    "with open(file='temp.data') as handler:\n",
    "    print(handler.read())\n",
    "\n",
    "# file_content = None\n",
    "# Now read the content back using json.load().\n",
    "print('Now read it back.')\n",
    "with open('temp.data') as handler:\n",
    "    file_content = json.load(handler)\n",
    "    \n",
    "print(type(file_content))\n",
    "print(file_content)\n"
   ]
  },
  {
   "cell_type": "code",
   "execution_count": null,
   "metadata": {},
   "outputs": [],
   "source": [
    "file_path = 'data.txt'\n",
    "backfile_path = file_path + '.bak'\n",
    "\n",
    "with open(file_path) as handler:\n",
    "    with open(backfile_path, mode='w') as back_handler:\n",
    "        back_handler.write(handler.read())"
   ]
  },
  {
   "cell_type": "code",
   "execution_count": null,
   "metadata": {},
   "outputs": [],
   "source": [
    "# Let's read a csv file, and calculate the sum of 2nd colum.\n",
    "# csv file content:\n",
    "# save following into sales.csv\n",
    "name, sales\n",
    "tom, 1000\n",
    "bob, 500\n",
    "jerry, 200\n",
    "tom, 800\n",
    "bob, 100\n",
    "jerry, 300\n",
    "\n",
    "# report format :\n",
    "tom: 'totol number'\n",
    "bob: xxxxx\n",
    "jerry: xxxx\n",
    "# https://github.com/jacobcui/python301 -> csv_sample -> sales.csv\n",
    "# str.split(',')\n",
    "result = dict()\n",
    "# result[name] = sales\n",
    "with open(csv_file_path) as hander:\n",
    "    lines = handler.readline()\n",
    "    useful_lines = lines[1:]\n",
    "    for index, line in enumerate(handler):\n",
    "        if not index:\n",
    "            continue\n",
    "            \n",
    "        cells = line.split(',')\n",
    "        name, value = cells[0], int(cells[1])\n",
    "        result[name] = result.get(name, 0) + value\n",
    "\n",
    "        \n",
    "        if name in result:\n",
    "            result[name] += value\n",
    "        else:\n",
    "            result[name] = value\n",
    "\n",
    "result            "
   ]
  },
  {
   "cell_type": "code",
   "execution_count": 42,
   "metadata": {},
   "outputs": [
    {
     "name": "stdout",
     "output_type": "stream",
     "text": [
      "dict_items([('tom', 1000), ('bob', 800), ('jerry', 2000)])\n"
     ]
    },
    {
     "data": {
      "text/plain": [
       "[('jerry', 2000), ('tom', 1000), ('bob', 800)]"
      ]
     },
     "execution_count": 42,
     "metadata": {},
     "output_type": "execute_result"
    }
   ],
   "source": [
    "a = [2,3,1, 4, 6, 5]\n",
    "sorted(a, reverse=True)\n",
    "\n",
    "a_list_of_dict = [\n",
    "    {'name': 'tom', 'value': 1000}, \n",
    "    {'name': 'bob', 'value': 800}, \n",
    "    {'name': 'jerry', 'value': 2000}]\n",
    "a_dict = {'tom': 1000, 'bob': 800, 'jerry': 2000}\n",
    "# expected_to_see = \n",
    "def sort_func(item):\n",
    "    return item['value']\n",
    "\n",
    "#sorted(a_list_of_dict, key=sort_func, reverse=True)\n",
    "#sorted(a_list_of_dict, key=lambda item: item['value'], reverse=True)\n",
    "print(a_dict.items())\n",
    "sorted(a_dict.items(), key=lambda item: item[1], reverse=True)\n",
    "\n",
    "\n",
    "\n",
    "https://github.com/jacobcui/python301"
   ]
  }
 ],
 "metadata": {
  "kernelspec": {
   "display_name": "Python 3",
   "language": "python",
   "name": "python3"
  },
  "language_info": {
   "codemirror_mode": {
    "name": "ipython",
    "version": 3
   },
   "file_extension": ".py",
   "mimetype": "text/x-python",
   "name": "python",
   "nbconvert_exporter": "python",
   "pygments_lexer": "ipython3",
   "version": "3.7.2"
  }
 },
 "nbformat": 4,
 "nbformat_minor": 2
}
