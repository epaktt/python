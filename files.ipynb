{
  "cells": [
    {
      "metadata": {
        "trusted": true
      },
      "cell_type": "code",
      "source": "!dir",
      "execution_count": 2,
      "outputs": [
        {
          "output_type": "stream",
          "text": "files.data  files.ipynb  object_types.ipynb  README.md\r\n",
          "name": "stdout"
        }
      ]
    },
    {
      "metadata": {
        "trusted": true
      },
      "cell_type": "code",
      "source": "handler = open('files.data')\ncontent = handler.read()\nprint(content)",
      "execution_count": 3,
      "outputs": [
        {
          "output_type": "stream",
          "text": "line one\nline two\nline three\nline four\nline five\n",
          "name": "stdout"
        }
      ]
    },
    {
      "metadata": {},
      "cell_type": "markdown",
      "source": "[Reading and Writing files](https://docs.python.org/3.7/tutorial/inputoutput.html#reading-and-writing-files)"
    },
    {
      "metadata": {
        "trusted": true
      },
      "cell_type": "code",
      "source": "# To get all file content into a list\nhandler = open('files.data')\nall_lines = handler.readlines()\nprint(all_lines)",
      "execution_count": 4,
      "outputs": [
        {
          "output_type": "stream",
          "text": "['line one\\n', 'line two\\n', 'line three\\n', 'line four\\n', 'line five']\n",
          "name": "stdout"
        }
      ]
    },
    {
      "metadata": {
        "trusted": true
      },
      "cell_type": "code",
      "source": "# To get all file content into a list - use list()\nhandler = open('files.data')\nall_lines = list(handler)\nprint(all_lines)",
      "execution_count": 11,
      "outputs": [
        {
          "output_type": "stream",
          "text": "['line one\\n', 'line two\\n', 'line three\\n', 'line four\\n', 'line five']\n",
          "name": "stdout"
        }
      ]
    },
    {
      "metadata": {
        "trusted": true
      },
      "cell_type": "code",
      "source": "# To iterate all file content line by line\n# new line character is added in the end.\nhandler = open('files.data')\nfor line in handler:\n    print(line)",
      "execution_count": 9,
      "outputs": [
        {
          "output_type": "stream",
          "text": "line one\n\nline two\n\nline three\n\nline four\n\nline five\n",
          "name": "stdout"
        }
      ]
    },
    {
      "metadata": {
        "trusted": true
      },
      "cell_type": "code",
      "source": "# To iterate all file content line by line - improved.\nwith open('files.data') as handler:\n    for line in handler:\n        print(line.strip())",
      "execution_count": 17,
      "outputs": [
        {
          "output_type": "stream",
          "text": "line one\nline two\nline three\nline four\nline five\n",
          "name": "stdout"
        }
      ]
    },
    {
      "metadata": {
        "trusted": true
      },
      "cell_type": "code",
      "source": "# Saving structured data with json.dumps() -> dump string.\nimport json\na_list = [1, 'simple', 'list']\na_string = json.dumps(a_list)\nprint(a_string)",
      "execution_count": 14,
      "outputs": [
        {
          "output_type": "stream",
          "text": "[1, \"simple\", \"list\"]\n",
          "name": "stdout"
        }
      ]
    },
    {
      "metadata": {
        "trusted": true
      },
      "cell_type": "code",
      "source": "# Use json.dump() to serialize a object to a text file\nhandler = open('temp.data', 'w')\na_list = [1, 'simple', 'list']\njson.dump(a_list, handler)\nhandler.close()\n\n# Now read the content back using json.load().\nhandler = open('temp.data')\n\nfile_content = json.load(handler)\nprint(type(file_content))\nprint(file_content)",
      "execution_count": 16,
      "outputs": [
        {
          "output_type": "stream",
          "text": "<class 'list'>\n[1, 'simple', 'list']\n",
          "name": "stdout"
        }
      ]
    }
  ],
  "metadata": {
    "kernelspec": {
      "name": "python36",
      "display_name": "Python 3.6",
      "language": "python"
    },
    "language_info": {
      "mimetype": "text/x-python",
      "nbconvert_exporter": "python",
      "name": "python",
      "pygments_lexer": "ipython3",
      "version": "3.6.6",
      "file_extension": ".py",
      "codemirror_mode": {
        "version": 3,
        "name": "ipython"
      }
    }
  },
  "nbformat": 4,
  "nbformat_minor": 2
}