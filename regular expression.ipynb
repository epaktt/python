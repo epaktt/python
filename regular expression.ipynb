{
  "cells": [
    {
      "metadata": {},
      "cell_type": "markdown",
      "source": "1) import re   \n2) compiled_obj = re.compile(string_of_rules)  \n3) compiled_obj.match(string_to_compare)  "
    },
    {
      "metadata": {
        "trusted": true
      },
      "cell_type": "code",
      "source": "import re\nmatcher = re.compile(r'^hello')\n\nstr_1 = 'hello world'\nstr_2 = 'say hello'\nstr_3 = ' hello world'\n\nresult_1 = matcher.match(str_1)\nprint(result_1)\n\nresult_2 = matcher.match(str_2)\nprint(result_2)",
      "execution_count": 7,
      "outputs": [
        {
          "output_type": "stream",
          "text": "<_sre.SRE_Match object; span=(0, 5), match='hello'>\nNone\n",
          "name": "stdout"
        }
      ]
    },
    {
      "metadata": {
        "trusted": true
      },
      "cell_type": "code",
      "source": "for string in (str_1, str_2, str_3):\n    if matcher.match(string):\n        print(\"Found match from string: {}\".format(string))",
      "execution_count": 8,
      "outputs": [
        {
          "output_type": "stream",
          "text": "Found match from string: hello world\n",
          "name": "stdout"
        }
      ]
    },
    {
      "metadata": {
        "collapsed": true
      },
      "cell_type": "markdown",
      "source": "[re](https://docs.python.org/3/library/re.html) module   \n[Regular expression tester](https://regex101.com/)"
    }
  ],
  "metadata": {
    "kernelspec": {
      "name": "python36",
      "display_name": "Python 3.6",
      "language": "python"
    },
    "language_info": {
      "mimetype": "text/x-python",
      "nbconvert_exporter": "python",
      "name": "python",
      "pygments_lexer": "ipython3",
      "version": "3.6.6",
      "file_extension": ".py",
      "codemirror_mode": {
        "version": 3,
        "name": "ipython"
      }
    }
  },
  "nbformat": 4,
  "nbformat_minor": 2
}