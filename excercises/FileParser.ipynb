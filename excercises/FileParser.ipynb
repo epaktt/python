{
 "cells": [
  {
   "cell_type": "markdown",
   "metadata": {},
   "source": [
    "To create a FileParser class, save it in first_module.py so it can become a module.  \n",
    "\n",
    "```\n",
    "from shared_lib import first_module\n",
    "\n",
    "csv_file = 'csv_sample/sales.csv'\n",
    "fp = first_module.FileParser(csv_file)\n",
    "results = fp.parse()\n",
    "\n",
    "# results format is like:\n",
    "[\n",
    "    {'Rep': 'Craig Booker', 'Sales': 1000 },\n",
    "    {'Rep': 'Craig Booker', 'Sales': 30000 },\n",
    "    ...\n",
    "]\n",
    "```"
   ]
  }
 ],
 "metadata": {
  "kernelspec": {
   "display_name": "Python 3",
   "language": "python",
   "name": "python3"
  },
  "language_info": {
   "codemirror_mode": {
    "name": "ipython",
    "version": 3
   },
   "file_extension": ".py",
   "mimetype": "text/x-python",
   "name": "python",
   "nbconvert_exporter": "python",
   "pygments_lexer": "ipython3",
   "version": "3.7.2"
  }
 },
 "nbformat": 4,
 "nbformat_minor": 2
}
