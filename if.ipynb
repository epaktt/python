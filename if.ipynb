{
 "cells": [
  {
   "cell_type": "code",
   "execution_count": 2,
   "metadata": {},
   "outputs": [
    {
     "name": "stdout",
     "output_type": "stream",
     "text": [
      "please type a integer number:10\n",
      "user input received: 10\n"
     ]
    }
   ],
   "source": [
    "user_input = input(\"please type a integer number:\")\n",
    "print (\"user input received:\", user_input)\n",
    "if int(user_input) > 10:\n",
    "    print (\"the number is greater than 10\")"
   ]
  },
  {
   "cell_type": "code",
   "execution_count": 3,
   "metadata": {},
   "outputs": [
    {
     "name": "stdout",
     "output_type": "stream",
     "text": [
      "please type a integer number:-10\n",
      "user input received: -10\n",
      "the number is less than or equal to 10.\n"
     ]
    }
   ],
   "source": [
    "user_input = input(\"please type a integer number:\")\n",
    "print (\"user input received:\", user_input)\n",
    "if int(user_input) > 10:\n",
    "    print (\"the number is greater than 10.\")\n",
    "else:\n",
    "    print (\"the number is less than or equal to 10.\")"
   ]
  },
  {
   "cell_type": "code",
   "execution_count": 5,
   "metadata": {},
   "outputs": [
    {
     "name": "stdout",
     "output_type": "stream",
     "text": [
      "please type a integer number:0\n",
      "user input received: 0\n",
      "the number is less than or equal 0.\n"
     ]
    }
   ],
   "source": [
    "user_input = input(\"please type a integer number:\")\n",
    "print (\"user input received:\", user_input)\n",
    "if int(user_input) > 10:\n",
    "    print (\"the number is greater than 10.\")\n",
    "elif int(user_input) > 0:\n",
    "    print (\"the number is greater than 0\")\n",
    "else:\n",
    "    print (\"the number is less than or equal 0.\")"
   ]
  },
  {
   "cell_type": "code",
   "execution_count": 13,
   "metadata": {},
   "outputs": [
    {
     "name": "stdout",
     "output_type": "stream",
     "text": [
      "less than or equal to 10\n"
     ]
    }
   ],
   "source": [
    "the_answer = \"greater than 10\" if (int(user_input) > 10) else \"less than or equal to 10\"\n",
    "print (the_answer)\n",
    "\n",
    "# only <variable> = <expression> if <expression> else <expression> is allowed for one line condition expression."
   ]
  },
  {
   "cell_type": "code",
   "execution_count": null,
   "metadata": {},
   "outputs": [],
   "source": [
    "a = 8\n",
    "b = ''\n",
    "if a > 10:\n",
    "    b = ' a is greater than 10'\n",
    "else:\n",
    "    b = ' a is less than 10'\n",
    "    \n",
    "b = 'a is greater than 10' if a > 10 else 'a is less than 10'"
   ]
  }
 ],
 "metadata": {
  "kernelspec": {
   "display_name": "Python 3",
   "language": "python",
   "name": "python3"
  },
  "language_info": {
   "codemirror_mode": {
    "name": "ipython",
    "version": 3
   },
   "file_extension": ".py",
   "mimetype": "text/x-python",
   "name": "python",
   "nbconvert_exporter": "python",
   "pygments_lexer": "ipython3",
   "version": "3.7.2"
  }
 },
 "nbformat": 4,
 "nbformat_minor": 1
}
