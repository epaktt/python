{
  "cells": [
    {
      "metadata": {
        "trusted": true
      },
      "cell_type": "code",
      "source": "user_input = input(\"please type a integer number:\")\nprint (\"user input received:\", user_input)\nif int(user_input) > 10:\n    print (\"the number is greater than 10\")",
      "execution_count": 2,
      "outputs": [
        {
          "output_type": "stream",
          "name": "stdout",
          "text": "please type a integer number:10\nuser input received: 10\n"
        }
      ]
    },
    {
      "metadata": {
        "trusted": true
      },
      "cell_type": "code",
      "source": "user_input = input(\"please type a integer number:\")\nprint (\"user input received:\", user_input)\nif int(user_input) > 10:\n    print (\"the number is greater than 10.\")\nelse:\n    print (\"the number is less than or equal to 10.\")",
      "execution_count": 3,
      "outputs": [
        {
          "output_type": "stream",
          "name": "stdout",
          "text": "please type a integer number:-10\nuser input received: -10\nthe number is less than or equal to 10.\n"
        }
      ]
    },
    {
      "metadata": {
        "trusted": true
      },
      "cell_type": "code",
      "source": "user_input = input(\"please type a integer number:\")\nprint (\"user input received:\", user_input)\nif int(user_input) > 10:\n    print (\"the number is greater than 10.\")\nelif int(user_input) > 0:\n    print (\"the number is greater than 0\")\nelse:\n    print (\"the number is less than or equal 0.\")",
      "execution_count": 5,
      "outputs": [
        {
          "output_type": "stream",
          "name": "stdout",
          "text": "please type a integer number:0\nuser input received: 0\nthe number is less than or equal 0.\n"
        }
      ]
    },
    {
      "metadata": {
        "trusted": true
      },
      "cell_type": "code",
      "source": "the_answer = \"greater than 10\" if (int(user_input) > 10) else \"less than or equal to 10\"\nprint (the_answer)\n\n# only <variable> = <expression> if <expression> else <expression> is allowed for one line condition expression.",
      "execution_count": 13,
      "outputs": [
        {
          "output_type": "stream",
          "text": "less than or equal to 10\n",
          "name": "stdout"
        }
      ]
    }
  ],
  "metadata": {
    "kernelspec": {
      "name": "python36",
      "display_name": "Python 3.6",
      "language": "python"
    },
    "language_info": {
      "mimetype": "text/x-python",
      "nbconvert_exporter": "python",
      "name": "python",
      "pygments_lexer": "ipython3",
      "version": "3.6.6",
      "file_extension": ".py",
      "codemirror_mode": {
        "version": 3,
        "name": "ipython"
      }
    }
  },
  "nbformat": 4,
  "nbformat_minor": 1
}